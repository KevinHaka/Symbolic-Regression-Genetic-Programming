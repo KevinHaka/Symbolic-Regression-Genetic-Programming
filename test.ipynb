{
 "cells": [
  {
   "cell_type": "code",
   "execution_count": 6,
   "id": "2232c26f",
   "metadata": {},
   "outputs": [],
   "source": [
    "from noname import BaseSR, GP"
   ]
  },
  {
   "cell_type": "code",
   "execution_count": null,
   "id": "b00b2bc7",
   "metadata": {},
   "outputs": [],
   "source": [
    "basic_params = {\n",
    "    \"loss_function\": nrmse_loss,\n",
    "    \"n_runs\": 10,\n",
    "    \"record_interval\": 5,\n",
    "    \"pysr_params\": pysr_params\n",
    "}"
   ]
  },
  {
   "cell_type": "code",
   "execution_count": 10,
   "id": "4cc78c53",
   "metadata": {},
   "outputs": [],
   "source": [
    "a = BaseSR()"
   ]
  },
  {
   "cell_type": "code",
   "execution_count": 13,
   "id": "175571fc",
   "metadata": {},
   "outputs": [],
   "source": [
    "b = GP()"
   ]
  },
  {
   "cell_type": "code",
   "execution_count": 16,
   "id": "7eb83755",
   "metadata": {},
   "outputs": [
    {
     "data": {
      "text/plain": [
       "0.2"
      ]
     },
     "execution_count": 16,
     "metadata": {},
     "output_type": "execute_result"
    }
   ],
   "source": [
    "b.test_size"
   ]
  }
 ],
 "metadata": {
  "kernelspec": {
   "display_name": "Python 3",
   "language": "python",
   "name": "python3"
  },
  "language_info": {
   "codemirror_mode": {
    "name": "ipython",
    "version": 3
   },
   "file_extension": ".py",
   "mimetype": "text/x-python",
   "name": "python",
   "nbconvert_exporter": "python",
   "pygments_lexer": "ipython3",
   "version": "3.12.2"
  }
 },
 "nbformat": 4,
 "nbformat_minor": 5
}
