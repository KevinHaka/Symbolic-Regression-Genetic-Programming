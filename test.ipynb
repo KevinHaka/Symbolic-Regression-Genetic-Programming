{
 "cells": [
  {
   "cell_type": "code",
   "execution_count": 1,
   "id": "435586cb",
   "metadata": {},
   "outputs": [
    {
     "name": "stdout",
     "output_type": "stream",
     "text": [
      "Detected IPython. Loading juliacall extension. See https://juliapy.github.io/PythonCall.jl/stable/compat/#IPython\n"
     ]
    }
   ],
   "source": [
    "import numpy as np\n",
    "\n",
    "from sr_gp_fs_methods import gp, gpshap, gpmi, new_method\n",
    "from datasets import load_datasets\n",
    "from pysr_utils import results_to_dataframe, plot_results\n",
    "\n",
    "import matplotlib.pyplot as plt\n",
    "import seaborn as sns\n",
    "\n",
    "import warnings\n",
    "\n",
    "sns.set_theme()\n",
    "warnings.filterwarnings(\"ignore\", category=UserWarning, module=\"pysr\")\n",
    "warnings.filterwarnings(\"ignore\", category=RuntimeWarning)"
   ]
  },
  {
   "cell_type": "code",
   "execution_count": 2,
   "id": "8a343880",
   "metadata": {},
   "outputs": [],
   "source": [
    "def rmse_loss(y_true, y_pred):\n",
    "    rmse = np.sqrt(np.mean((y_true - y_pred)**2))\n",
    "    return rmse\n",
    "\n",
    "def nrmse_loss(y_true, y_pred):\n",
    "    rmse = rmse_loss(y_true, y_pred)\n",
    "    return rmse / (y_true.max() - y_true.min())"
   ]
  },
  {
   "cell_type": "code",
   "execution_count": null,
   "id": "b72d4d3e",
   "metadata": {},
   "outputs": [],
   "source": [
    "from ucimlrepo import fetch_ucirepo\n",
    "import pandas as pd\n",
    "\n"
   ]
  },
  {
   "cell_type": "code",
   "execution_count": 51,
   "id": "f16760ea",
   "metadata": {},
   "outputs": [
    {
     "name": "stdout",
     "output_type": "stream",
     "text": [
      "<class 'pandas.core.frame.DataFrame'>\n",
      "RangeIndex: 319 entries, 0 to 318\n",
      "Columns: 125 entries, pop to violentPerPop\n",
      "dtypes: float64(98), int64(27)\n",
      "memory usage: 311.7 KB\n"
     ]
    }
   ],
   "source": [
    "dataset.data.original.info()"
   ]
  },
  {
   "cell_type": "code",
   "execution_count": 1,
   "id": "30c4c922",
   "metadata": {},
   "outputs": [],
   "source": [
    "a = {\"A\": 3, \"B\": 4, \"C\": 5, \"D\":1, \"E\": 2}"
   ]
  },
  {
   "cell_type": "code",
   "execution_count": 48,
   "id": "1f51ebce",
   "metadata": {},
   "outputs": [
    {
     "data": {
      "text/plain": [
       "['murders',\n",
       " 'murdPerPop',\n",
       " 'rapes',\n",
       " 'rapesPerPop',\n",
       " 'robberies',\n",
       " 'robbbPerPop',\n",
       " 'assaults',\n",
       " 'assaultPerPop',\n",
       " 'burglaries',\n",
       " 'burglPerPop',\n",
       " 'larcenies',\n",
       " 'larcPerPop',\n",
       " 'autoTheft',\n",
       " 'autoTheftPerPop',\n",
       " 'arsons',\n",
       " 'arsonsPerPop',\n",
       " 'nonViolPerPop']"
      ]
     },
     "execution_count": 48,
     "metadata": {},
     "output_type": "execute_result"
    }
   ],
   "source": [
    "target_columns"
   ]
  },
  {
   "cell_type": "code",
   "execution_count": 20,
   "id": "4c872ec1",
   "metadata": {},
   "outputs": [
    {
     "name": "stdout",
     "output_type": "stream",
     "text": [
      "<class 'pandas.core.frame.DataFrame'>\n",
      "RangeIndex: 2215 entries, 0 to 2214\n",
      "Columns: 125 entries, State to policBudgetPerPop\n",
      "dtypes: float64(97), int64(27), object(1)\n",
      "memory usage: 2.1+ MB\n"
     ]
    }
   ],
   "source": [
    "dataset.data.features.info()"
   ]
  },
  {
   "cell_type": "code",
   "execution_count": null,
   "id": "585485a9",
   "metadata": {},
   "outputs": [],
   "source": []
  }
 ],
 "metadata": {
  "kernelspec": {
   "display_name": "Python 3",
   "language": "python",
   "name": "python3"
  },
  "language_info": {
   "codemirror_mode": {
    "name": "ipython",
    "version": 3
   },
   "file_extension": ".py",
   "mimetype": "text/x-python",
   "name": "python",
   "nbconvert_exporter": "python",
   "pygments_lexer": "ipython3",
   "version": "3.12.2"
  }
 },
 "nbformat": 4,
 "nbformat_minor": 5
}
