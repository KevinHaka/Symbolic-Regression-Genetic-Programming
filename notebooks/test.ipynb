{
 "cells": [
  {
   "cell_type": "code",
   "execution_count": null,
   "id": "a8167da6",
   "metadata": {},
   "outputs": [
    {
     "name": "stdout",
     "output_type": "stream",
     "text": [
      "Detected IPython. Loading juliacall extension. See https://juliapy.github.io/PythonCall.jl/stable/compat/#IPython\n"
     ]
    }
   ],
   "source": [
    "import numpy as np\n",
    "\n",
    "from dask.delayed import delayed\n",
    "from dask.base import compute\n",
    "from dask.diagnostics.progress import ProgressBar\n",
    "\n",
    "from symbolic_regression.methods.gp import GP\n",
    "from symbolic_regression.methods.gpshap import GPSHAP\n",
    "from symbolic_regression.methods.gpcmi import GPCMI\n",
    "\n",
    "from symbolic_regression.utils.pysr_utils import nrmse_loss, train_val_test_split\n",
    "from symbolic_regression.datasets import load_datasets\n",
    "\n",
    "import matplotlib.pyplot as plt\n",
    "import seaborn as sns\n",
    "\n",
    "import warnings\n",
    "\n",
    "sns.set_theme()\n",
    "warnings.filterwarnings(\"ignore\", category=UserWarning, module=\"pysr\")\n",
    "warnings.filterwarnings(\"ignore\", category=RuntimeWarning)"
   ]
  },
  {
   "cell_type": "code",
   "execution_count": 2,
   "id": "545d2c56",
   "metadata": {},
   "outputs": [
    {
     "data": {
      "text/plain": [
       "dict_keys(['F1'])"
      ]
     },
     "execution_count": 2,
     "metadata": {},
     "output_type": "execute_result"
    }
   ],
   "source": [
    "n_runs = 2\n",
    "test_size = 0.2\n",
    "val_size = 0.25\n",
    "n_top_features = None\n",
    "k = 5\n",
    "ci = 0.99\n",
    "record_interval = 5\n",
    "\n",
    "pysr_params = {\n",
    "    \"populations\": 1,\n",
    "    \"population_size\": 20,\n",
    "    \"niterations\": 20,\n",
    "    \"binary_operators\": [\"+\", \"-\", \"*\"],\n",
    "    \"unary_operators\": [\"sqrt\", \"inv(x) = 1/x\"],\n",
    "    \"extra_sympy_mappings\": {\"inv\": lambda x: 1/x},\n",
    "    \"verbosity\": 0,\n",
    "}\n",
    "\n",
    "dataset_names = [\n",
    "    \"F1\",\n",
    "    # \"F2\",\n",
    "    # (\"4544_GeographicalOriginalofMusic\", \"4544_GOM\"),\n",
    "    # \"505_tecator\",\n",
    "    # (\"Communities and Crime\", \"CCN\"),\n",
    "    # (\"Communities and Crime Unnormalized\", \"CCUN\"),\n",
    "]\n",
    "\n",
    "datasets = load_datasets(dataset_names)\n",
    "datasets.keys()"
   ]
  },
  {
   "cell_type": "code",
   "execution_count": 3,
   "id": "601397c9",
   "metadata": {},
   "outputs": [],
   "source": [
    "gp_params = {\n",
    "    \"loss_function\": nrmse_loss,\n",
    "    \"record_interval\": record_interval,\n",
    "    **pysr_params,\n",
    "}\n",
    "\n",
    "gpshap_params = {**gp_params}\n",
    "\n",
    "gpcmi_params = {\n",
    "    **gp_params,\n",
    "    \"k\": k,\n",
    "    \"ci\": ci\n",
    "}\n",
    "\n",
    "shap_params = {\n",
    "    \"test_size\": test_size,\n",
    "    \"val_size\": val_size,\n",
    "    \"n_runs\": n_runs,\n",
    "    \"n_top_features\": n_top_features,\n",
    "    **gp_params\n",
    "}"
   ]
  },
  {
   "cell_type": "code",
   "execution_count": 4,
   "id": "d778a3ea",
   "metadata": {},
   "outputs": [
    {
     "data": {
      "text/plain": [
       "4"
      ]
     },
     "execution_count": 4,
     "metadata": {},
     "output_type": "execute_result"
    }
   ],
   "source": [
    "gp = GP(**gp_params)\n",
    "gpshap = GPSHAP(**gpshap_params)\n",
    "gpcmi = GPCMI(**gpcmi_params)\n",
    "\n",
    "methods = {\n",
    "    \"GP\": gp,\n",
    "    \"GPSHAP\": gpshap,\n",
    "    \"GPCMI\": gpcmi\n",
    "}\n",
    "\n",
    "width_method = max([round(len(name), 0) for name in methods.keys()])\n",
    "width_dataset = max([round(len(name), 0) for name in datasets.keys()])\n",
    "\n",
    "n_records = methods[list(methods.keys())[0]].n_records\n",
    "n_records"
   ]
  },
  {
   "cell_type": "code",
   "execution_count": 5,
   "id": "0fe63949",
   "metadata": {},
   "outputs": [
    {
     "name": "stdout",
     "output_type": "stream",
     "text": [
      "Running GP     on F1 ..Done\n",
      "Running GPSHAP on F1 ..Done\n",
      "Running GPCMI  on F1 ..Done\n"
     ]
    }
   ],
   "source": [
    "results = {}\n",
    "equations = {}\n",
    "features = {}\n",
    "if \"GPSHAP\" in methods:\n",
    "    methods[\"GPSHAP\"].clear_cache()  # Clear cache before starting new tasks\n",
    "\n",
    "for dataset_name, dataset in datasets.items():\n",
    "    results[dataset_name] = {}\n",
    "    equations[dataset_name] = {}\n",
    "    features[dataset_name] = {}\n",
    "    train_val_test_sets = []\n",
    "\n",
    "    X = dataset[\"X\"]\n",
    "    y = dataset[\"y\"]\n",
    "\n",
    "    for _ in range(n_runs):\n",
    "        train_val_test_set = train_val_test_split(X, y)\n",
    "        train_val_test_sets.append(train_val_test_set)\n",
    "\n",
    "    for method_name, method in methods.items():\n",
    "        results[dataset_name][method_name] = {\n",
    "            \"training_losses\": np.empty((n_runs, n_records)),\n",
    "            \"validation_losses\": np.empty((n_runs, n_records)),\n",
    "            \"test_losses\": np.empty((n_runs, n_records)),\n",
    "        }\n",
    "        equations[dataset_name][method_name] = []\n",
    "        features[dataset_name][method_name] = []\n",
    "\n",
    "        print(f\"Running {method_name:<{width_method}} on {dataset_name:<{width_dataset}} \", end=\"\")\n",
    "\n",
    "        if (method_name == \"GPSHAP\"):\n",
    "            if equations[dataset_name].get('GP', False):\n",
    "                X_trains = tuple([train_val_test_set[0] for train_val_test_set in train_val_test_sets])\n",
    "                gp_equations = [eqs[-1] for eqs in equations[dataset_name]['GP']]\n",
    "                \n",
    "                method.precompute_features_from_pretrained_models(X_trains, gp_equations, n_top_features)\n",
    "            \n",
    "            else: method.precompute_features(X, y, **shap_params)\n",
    "\n",
    "        for run in range(n_runs):\n",
    "            print(\".\", end=\"\")\n",
    "\n",
    "            temp_losses, temp_best_eqs, temp_features = method.run(\n",
    "                train_val_test_sets[run]\n",
    "            )\n",
    "\n",
    "            results[dataset_name][method_name][\"training_losses\"][run, :] = temp_losses[0]\n",
    "            results[dataset_name][method_name][\"validation_losses\"][run, :] = temp_losses[1]\n",
    "            results[dataset_name][method_name][\"test_losses\"][run, :] = temp_losses[2]\n",
    "            equations[dataset_name][method_name].append(temp_best_eqs)\n",
    "            features[dataset_name][method_name].append(temp_features)\n",
    "\n",
    "        print(\"Done\")"
   ]
  },
  {
   "cell_type": "code",
   "execution_count": 6,
   "id": "9f7d6f0f",
   "metadata": {},
   "outputs": [
    {
     "data": {
      "image/png": "[encoded data removed]",
      "text/plain": [
       "<Figure size 600x500 with 1 Axes>"
      ]
     },
     "metadata": {},
     "output_type": "display_data"
    }
   ],
   "source": [
    "# metrics = 'training_losses'\n",
    "# metrics = 'validation_losses'\n",
    "metrics = 'test_losses'\n",
    "n_datasets = len(results)\n",
    "# record_interval = gp_params['record_interval']\n",
    "fig, axes = plt.subplots(1, n_datasets, figsize=(6 * n_datasets, 5))\n",
    "\n",
    "if n_datasets == 1:\n",
    "    axes = [axes]  # Ensure axes is always iterable\n",
    "\n",
    "for ax, (dataset_name, dataset_results) in zip(axes, results.items()):\n",
    "    # Get the number of intervals from any method (they should all be the same)\n",
    "    method = next(iter(dataset_results))\n",
    "    length = len(dataset_results[method][metrics].mean(axis=0))\n",
    "\n",
    "\n",
    "    for method in dataset_results.keys():\n",
    "        ax.plot(\n",
    "            range(record_interval, length * record_interval + 1, record_interval),\n",
    "            np.mean(dataset_results[method][metrics], axis=0),\n",
    "            # dataset_results[method][metrics],\n",
    "            label=method\n",
    "        )\n",
    "    ax.set_title(dataset_name)\n",
    "    ax.set_xlabel(\"Interval\")\n",
    "    # ax.set_yscale(\"log\")\n",
    "    ax.legend()\n",
    "\n",
    "axes[0].set_ylabel(metrics)\n",
    "plt.tight_layout()\n",
    "\n",
    "plt.show()"
   ]
  },
  {
   "cell_type": "code",
   "execution_count": 7,
   "id": "6e9ae838",
   "metadata": {},
   "outputs": [
    {
     "name": "stdout",
     "output_type": "stream",
     "text": [
      "[########################################] | 100% Completed | 47.50 s\n"
     ]
    }
   ],
   "source": [
    "# NOTE: The following code is for parallel processing of tasks across datasets and methods.\n",
    "\n",
    "@delayed\n",
    "def process_task(dataset_name, method_name, run, train_val_test_set, method, _=None):\n",
    "    temp_losses, temp_best_eqs, temp_features = method.run(train_val_test_set)\n",
    "\n",
    "    return {\n",
    "        'dataset_name': dataset_name,\n",
    "        'method_name': method_name,\n",
    "        'run': run,\n",
    "        'losses': temp_losses,\n",
    "        'equations': temp_best_eqs,\n",
    "        'features': temp_features\n",
    "    }\n",
    "\n",
    "delayed_tasks = {}\n",
    "if \"GPSHAP\" in methods:\n",
    "    methods[\"GPSHAP\"].clear_cache()  # Clear cache before starting new task\n",
    "\n",
    "for dataset_name, dataset in datasets.items():\n",
    "    delayed_tasks[dataset_name] = {}\n",
    "\n",
    "    X = dataset[\"X\"]\n",
    "    y = dataset[\"y\"]\n",
    "\n",
    "    delayed_splits = [delayed(train_val_test_split)(X, y) for _ in range(n_runs)]\n",
    "    \n",
    "    for method_name, method in methods.items():\n",
    "        delayed_tasks[dataset_name][method_name] = []\n",
    "\n",
    "        if method_name == \"GPSHAP\": continue  # Skip GPSHAP for now, as it requires precomputed features\n",
    "\n",
    "        # Create a delayed task for each method and dataset\n",
    "        for run in range(n_runs):\n",
    "            delayed_tasks[dataset_name][method_name].append(\n",
    "                process_task(dataset_name, method_name, run, delayed_splits[run], method)\n",
    "            )\n",
    "    \n",
    "    if (\"GPSHAP\" in methods):\n",
    "        if ('GP' in methods):\n",
    "            delayed_X_trains = tuple([delayed_split[0] for delayed_split in delayed_splits])\n",
    "            delayed_gp_equations = [delayed_task['equations'][-1] for delayed_task in delayed_tasks[dataset_name][\"GP\"]]\n",
    "            \n",
    "            # Use GP's equations for GPSHAP\n",
    "            delayed_precomputed_features_task = delayed(methods[\"GPSHAP\"].precompute_features_from_pretrained_models)(\n",
    "                delayed_X_trains, delayed_gp_equations, n_top_features\n",
    "            )\n",
    "\n",
    "        else:\n",
    "            delayed_precomputed_features_task = delayed(methods[\"GPSHAP\"].precompute_features)(\n",
    "                X, y, **shap_params\n",
    "            )\n",
    "\n",
    "        for run in range(n_runs):\n",
    "            delayed_tasks[dataset_name][\"GPSHAP\"].append(\n",
    "                process_task(dataset_name, 'GPSHAP', run, delayed_splits[run], methods[\"GPSHAP\"], delayed_precomputed_features_task)\n",
    "            )\n",
    "\n",
    "tasks_to_run = [\n",
    "    task \n",
    "    for methods_dict in delayed_tasks.values() \n",
    "    for task_list in methods_dict.values() \n",
    "    for task in task_list\n",
    "]\n",
    "\n",
    "with ProgressBar():\n",
    "    computed_results = compute(*tasks_to_run, scheduler='processes')\n",
    "\n",
    "results = {}\n",
    "equations = {}\n",
    "features = {}\n",
    "\n",
    "for dataset_name in datasets.keys():\n",
    "    results[dataset_name] = {}\n",
    "    equations[dataset_name] = {}\n",
    "    features[dataset_name] = {}\n",
    "\n",
    "    for method_name in methods.keys():\n",
    "        results[dataset_name][method_name] = {\n",
    "            \"training_losses\": np.empty((n_runs, n_records)),\n",
    "            \"validation_losses\": np.empty((n_runs, n_records)),\n",
    "            \"test_losses\": np.empty((n_runs, n_records)),\n",
    "        }\n",
    "        equations[dataset_name][method_name] = []\n",
    "        features[dataset_name][method_name] = []\n",
    "\n",
    "for result in computed_results:\n",
    "    dataset_name = result['dataset_name']\n",
    "    method_name = result['method_name']\n",
    "    run = result['run']\n",
    "    \n",
    "    results[dataset_name][method_name][\"training_losses\"][run, :] = result['losses'][0]\n",
    "    results[dataset_name][method_name][\"validation_losses\"][run, :] = result['losses'][1]\n",
    "    results[dataset_name][method_name][\"test_losses\"][run, :] = result['losses'][2]\n",
    "    \n",
    "    equations[dataset_name][method_name].append(result['equations'])\n",
    "    features[dataset_name][method_name].append(result['features'])"
   ]
  },
  {
   "cell_type": "code",
   "execution_count": 8,
   "id": "e4851f5e",
   "metadata": {},
   "outputs": [
    {
     "data": {
      "image/png": "[encoded data removed]",
      "text/plain": [
       "<Figure size 600x500 with 1 Axes>"
      ]
     },
     "metadata": {},
     "output_type": "display_data"
    }
   ],
   "source": [
    "# metrics = 'training_losses'\n",
    "# metrics = 'validation_losses'\n",
    "metrics = 'test_losses'\n",
    "n_datasets = len(results)\n",
    "# record_interval = gp_params['record_interval']\n",
    "fig, axes = plt.subplots(1, n_datasets, figsize=(6 * n_datasets, 5))\n",
    "\n",
    "if n_datasets == 1:\n",
    "    axes = [axes]  # Ensure axes is always iterable\n",
    "\n",
    "for ax, (dataset_name, dataset_results) in zip(axes, results.items()):\n",
    "    # Get the number of intervals from any method (they should all be the same)\n",
    "    method = next(iter(dataset_results))\n",
    "    length = len(dataset_results[method][metrics].mean(axis=0))\n",
    "\n",
    "\n",
    "    for method in dataset_results.keys():\n",
    "        ax.plot(\n",
    "            range(record_interval, length * record_interval + 1, record_interval),\n",
    "            np.mean(dataset_results[method][metrics], axis=0),\n",
    "            # dataset_results[method][metrics],\n",
    "            label=method\n",
    "        )\n",
    "    ax.set_title(dataset_name)\n",
    "    ax.set_xlabel(\"Interval\")\n",
    "    # ax.set_yscale(\"log\")\n",
    "    ax.legend()\n",
    "\n",
    "axes[0].set_ylabel(metrics)\n",
    "plt.tight_layout()\n",
    "\n",
    "plt.show()"
   ]
  },
  {
   "cell_type": "code",
   "execution_count": 9,
   "id": "a06c105c",
   "metadata": {},
   "outputs": [
    {
     "data": {
      "text/plain": [
       "[['X2', 'X1', 'X3'], ['X2', 'X1', 'X3']]"
      ]
     },
     "execution_count": 9,
     "metadata": {},
     "output_type": "execute_result"
    }
   ],
   "source": [
    "features['F1']['GPCMI']"
   ]
  },
  {
   "cell_type": "code",
   "execution_count": 10,
   "id": "f2f0ef43",
   "metadata": {},
   "outputs": [
    {
     "data": {
      "text/plain": [
       "['noise_40', 'X2']"
      ]
     },
     "execution_count": 10,
     "metadata": {},
     "output_type": "execute_result"
    }
   ],
   "source": [
    "features['F1']['GPSHAP'][0]"
   ]
  },
  {
   "cell_type": "code",
   "execution_count": 11,
   "id": "cc2a3c71",
   "metadata": {},
   "outputs": [],
   "source": [
    "    # Create a new data split with only the selected features\n",
    "#     train_val_test_set_filtered = (\n",
    "#     X_train[selected_features],\n",
    "#     X_val[selected_features],\n",
    "#     X_test[selected_features],\n",
    "#     y_train,\n",
    "#     y_val,\n",
    "#     y_test,\n",
    "# )\n",
    "\n",
    "# features = train_val_test_set_filtered[0].columns.tolist()\n",
    "\n",
    "# training_losses, validation_losses, test_losses, best_eqs = fit_and_evaluate_best_equation(\n",
    "#     train_val_test_set_filtered,\n",
    "#     self.loss_function,\n",
    "#     self.record_interval,\n",
    "#     self.pysr_params\n",
    "# )\n",
    "\n",
    "# return (training_losses, validation_losses, test_losses), best_eqs, features"
   ]
  },
  {
   "cell_type": "code",
   "execution_count": null,
   "id": "321ac2b0",
   "metadata": {},
   "outputs": [],
   "source": []
  }
 ],
 "metadata": {
  "kernelspec": {
   "display_name": "Python 3",
   "language": "python",
   "name": "python3"
  },
  "language_info": {
   "codemirror_mode": {
    "name": "ipython",
    "version": 3
   },
   "file_extension": ".py",
   "mimetype": "text/x-python",
   "name": "python",
   "nbconvert_exporter": "python",
   "pygments_lexer": "ipython3",
   "version": "3.12.2"
  }
 },
 "nbformat": 4,
 "nbformat_minor": 5
}
