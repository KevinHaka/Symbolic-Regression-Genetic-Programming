{
 "cells": [
  {
   "cell_type": "code",
   "execution_count": 4,
   "id": "a8167da6",
   "metadata": {},
   "outputs": [],
   "source": [
    "import sys, os\n",
    "\n",
    "# προσθέτουμε το src/ ως entry για imports\n",
    "package_path = os.path.abspath('../src')\n",
    "if package_path not in sys.path:\n",
    "    sys.path.insert(0, package_path)\n",
    "\n",
    "from symbolic_regression.methods.gp import GP\n",
    "from symbolic_regression.utils.pysr_utils import nrmse_loss"
   ]
  },
  {
   "cell_type": "code",
   "execution_count": 6,
   "id": "545d2c56",
   "metadata": {},
   "outputs": [],
   "source": [
    "pysr_params = {\n",
    "    \"populations\": 1,\n",
    "    \"population_size\": 20,\n",
    "    \"niterations\": 50,\n",
    "    \"binary_operators\": [\"+\", \"-\", \"*\"],\n",
    "    \"unary_operators\": [\"sqrt\", \"inv(x) = 1/x\"],\n",
    "    \"extra_sympy_mappings\": {\"inv\": lambda x: 1/x},\n",
    "    \"verbosity\": 0\n",
    "}"
   ]
  },
  {
   "cell_type": "code",
   "execution_count": 7,
   "id": "d778a3ea",
   "metadata": {},
   "outputs": [],
   "source": [
    "gp = GP(\n",
    "    loss_function=nrmse_loss ,\n",
    "    record_interval=5,\n",
    "    pysr_params=pysr_params\n",
    ")"
   ]
  },
  {
   "cell_type": "code",
   "execution_count": null,
   "id": "0fe63949",
   "metadata": {},
   "outputs": [
    {
     "ename": "TypeError",
     "evalue": "'BaseMethod' object is not callable",
     "output_type": "error",
     "traceback": [
      "\u001b[1;31m---------------------------------------------------------------------------\u001b[0m",
      "\u001b[1;31mTypeError\u001b[0m                                 Traceback (most recent call last)",
      "Cell \u001b[1;32mIn[3], line 1\u001b[0m\n\u001b[1;32m----> 1\u001b[0m \u001b[43ma\u001b[49m\u001b[43m(\u001b[49m\u001b[43m)\u001b[49m\n",
      "\u001b[1;31mTypeError\u001b[0m: 'BaseMethod' object is not callable"
     ]
    }
   ],
   "source": [
    "# prepei na kanw imptort data"
   ]
  },
  {
   "cell_type": "code",
   "execution_count": null,
   "id": "7d3bbca8",
   "metadata": {},
   "outputs": [],
   "source": []
  }
 ],
 "metadata": {
  "kernelspec": {
   "display_name": "Python 3",
   "language": "python",
   "name": "python3"
  },
  "language_info": {
   "codemirror_mode": {
    "name": "ipython",
    "version": 3
   },
   "file_extension": ".py",
   "mimetype": "text/x-python",
   "name": "python",
   "nbconvert_exporter": "python",
   "pygments_lexer": "ipython3",
   "version": "3.12.2"
  }
 },
 "nbformat": 4,
 "nbformat_minor": 5
}
