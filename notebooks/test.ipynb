{
 "cells": [
  {
   "cell_type": "code",
   "execution_count": 1,
   "id": "a8167da6",
   "metadata": {},
   "outputs": [
    {
     "name": "stdout",
     "output_type": "stream",
     "text": [
      "Detected IPython. Loading juliacall extension. See https://juliapy.github.io/PythonCall.jl/stable/compat/#IPython\n"
     ]
    }
   ],
   "source": [
    "from symbolic_regression.methods.gp import GP\n",
    "from symbolic_regression.utils.pysr_utils import nrmse_loss, train_val_test_split\n",
    "from symbolic_regression.datasets import load_datasets\n",
    "\n",
    "import numpy as np\n",
    "\n",
    "import matplotlib.pyplot as plt\n",
    "import seaborn as sns\n",
    "\n",
    "import warnings\n",
    "\n",
    "sns.set_theme()\n",
    "warnings.filterwarnings(\"ignore\", category=UserWarning, module=\"pysr\")"
   ]
  },
  {
   "cell_type": "code",
   "execution_count": 2,
   "id": "545d2c56",
   "metadata": {},
   "outputs": [
    {
     "data": {
      "text/plain": [
       "dict_keys(['F1'])"
      ]
     },
     "execution_count": 2,
     "metadata": {},
     "output_type": "execute_result"
    }
   ],
   "source": [
    "n_runs = 10\n",
    "\n",
    "pysr_params = {\n",
    "    \"populations\": 1,\n",
    "    \"population_size\": 20,\n",
    "    \"niterations\": 50,\n",
    "    \"binary_operators\": [\"+\", \"-\", \"*\"],\n",
    "    \"unary_operators\": [\"sqrt\", \"inv(x) = 1/x\"],\n",
    "    \"extra_sympy_mappings\": {\"inv\": lambda x: 1/x},\n",
    "    \"verbosity\": 0\n",
    "}\n",
    "\n",
    "basic_params = {\n",
    "    \"loss_function\": nrmse_loss,\n",
    "    \"record_interval\": 5,\n",
    "    \"pysr_params\": pysr_params,\n",
    "}\n",
    "\n",
    "dataset_names = [\n",
    "    \"F1\",\n",
    "    # \"F2\",\n",
    "    # (\"4544_GeographicalOriginalofMusic\", \"4544_GOM\"),\n",
    "    # \"505_tecator\",\n",
    "    # (\"Communities and Crime\", \"CCN\"),\n",
    "    # (\"Communities and Crime Unnormalized\", \"CCUN\"),\n",
    "]\n",
    "\n",
    "datasets = load_datasets(dataset_names)\n",
    "width = max([round(len(name)+10, -1) for name in datasets.keys()])\n",
    "\n",
    "datasets.keys()"
   ]
  },
  {
   "cell_type": "code",
   "execution_count": 19,
   "id": "d778a3ea",
   "metadata": {},
   "outputs": [],
   "source": [
    "gp = GP(**basic_params)\n",
    "n_records = gp.n_records\n",
    "\n",
    "methods = {\n",
    "    \"GP\": gp,\n",
    "}"
   ]
  },
  {
   "cell_type": "code",
   "execution_count": 22,
   "id": "0fe63949",
   "metadata": {},
   "outputs": [
    {
     "name": "stdout",
     "output_type": "stream",
     "text": [
      "Running GP on F1        ..........Done\n"
     ]
    }
   ],
   "source": [
    "results = {}\n",
    "equations = {}\n",
    "features = {}\n",
    "\n",
    "for dataset_name, dataset in datasets.items():\n",
    "    results[dataset_name] = {}\n",
    "    equations[dataset_name] = {}\n",
    "    features[dataset_name] = {}\n",
    "\n",
    "    X = dataset[\"X\"]\n",
    "    y = dataset[\"y\"]\n",
    "    train_val_test_set = train_val_test_split(X, y)\n",
    "\n",
    "    for method_name, method in methods.items():\n",
    "        results[dataset_name][method_name] = {\n",
    "            \"training_losses\": np.empty((n_runs, n_records)),\n",
    "            \"validation_losses\": np.empty((n_runs, n_records)),\n",
    "            \"test_losses\": np.empty((n_runs, n_records)),\n",
    "        }\n",
    "        equations[dataset_name][method_name] = []\n",
    "        features[dataset_name][method_name] = []\n",
    "\n",
    "        print(f\"Running {method_name} on {dataset_name:<{width}}\", end=\"\")\n",
    "\n",
    "        for run in range(n_runs):\n",
    "            print(\".\", end=\"\")\n",
    "\n",
    "            temp_training_losses, temp_validation_losses, temp_test_losses, \\\n",
    "            temp_best_eqs, temp_features = method.run(\n",
    "                train_val_test_set\n",
    "            )\n",
    "\n",
    "            results[dataset_name][method_name][\"training_losses\"][run, :] = temp_training_losses\n",
    "            results[dataset_name][method_name][\"validation_losses\"][run, :] = temp_validation_losses\n",
    "            results[dataset_name][method_name][\"test_losses\"][run, :] = temp_test_losses\n",
    "            equations[dataset_name][method_name].append(temp_best_eqs)\n",
    "            features[dataset_name][method_name].append(features)\n",
    "\n",
    "        print(\"Done\")"
   ]
  },
  {
   "cell_type": "code",
   "execution_count": 23,
   "id": "45938889",
   "metadata": {},
   "outputs": [
    {
     "data": {
      "text/plain": [
       "array([[0.40171815, 0.40141095, 0.39246195, 0.38083859, 0.3106849 ,\n",
       "        0.2679415 , 0.26243353, 0.26243353, 0.20454091, 0.21024542],\n",
       "       [0.40171815, 0.40171815, 0.28201071, 0.28201071, 0.28201071,\n",
       "        0.28201071, 0.28201071, 0.24891225, 0.17100266, 0.19946865],\n",
       "       [0.40171815, 0.25569866, 0.25568042, 0.23050681, 0.23050681,\n",
       "        0.23050681, 0.23050681, 0.20789237, 0.20789237, 0.16564519],\n",
       "       [0.40171815, 0.40171815, 0.40171815, 0.40171815, 0.40171815,\n",
       "        0.28103405, 0.27906888, 0.25289061, 0.19087005, 0.19087005],\n",
       "       [0.40171815, 0.40171815, 0.40171815, 0.40171815, 0.40171815,\n",
       "        0.40171815, 0.32524025, 0.30493407, 0.236457  , 0.1703647 ],\n",
       "       [0.24821023, 0.21438937, 0.14967723, 0.1505927 , 0.1505927 ,\n",
       "        0.1505927 , 0.1505927 , 0.1505927 , 0.1505927 , 0.1505927 ],\n",
       "       [0.40171815, 0.40171815, 0.40171815, 0.37763055, 0.32946084,\n",
       "        0.32103627, 0.24905374, 0.23667798, 0.19224169, 0.19224169],\n",
       "       [0.40171815, 0.40171815, 0.40171815, 0.26364841, 0.26364841,\n",
       "        0.25681774, 0.25681774, 0.25481756, 0.24209801, 0.19092452],\n",
       "       [0.25567383, 0.25567383, 0.25567383, 0.25567383, 0.25567383,\n",
       "        0.2555825 , 0.2555825 , 0.25201765, 0.2555824 , 0.21413003],\n",
       "       [0.40171815, 0.25824085, 0.25824085, 0.2555946 , 0.25185731,\n",
       "        0.23781433, 0.23781433, 0.17460026, 0.1603694 , 0.14781513]])"
      ]
     },
     "execution_count": 23,
     "metadata": {},
     "output_type": "execute_result"
    }
   ],
   "source": [
    "# temp_training_losses\n",
    "results['F1']['GP']['training_losses']"
   ]
  },
  {
   "cell_type": "code",
   "execution_count": 31,
   "id": "43983911",
   "metadata": {},
   "outputs": [
    {
     "data": {
      "image/png": "[encoded data removed]",
      "text/plain": [
       "<Figure size 600x500 with 1 Axes>"
      ]
     },
     "metadata": {},
     "output_type": "display_data"
    }
   ],
   "source": [
    "metrics = 'training_losses'\n",
    "# metrics = 'validation_losses'\n",
    "# metrics = 'test_losses'\n",
    "n_datasets = len(results)\n",
    "record_interval = basic_params['record_interval']\n",
    "fig, axes = plt.subplots(1, n_datasets, figsize=(6 * n_datasets, 5))\n",
    "\n",
    "if n_datasets == 1:\n",
    "    axes = [axes]  # Ensure axes is always iterable\n",
    "\n",
    "for ax, (dataset_name, dataset_results) in zip(axes, results.items()):\n",
    "    # Get the number of intervals from any method (they should all be the same)\n",
    "    method = next(iter(dataset_results))\n",
    "    length = len(dataset_results[method][metrics].mean(axis=0))\n",
    "\n",
    "\n",
    "    for method in dataset_results.keys():\n",
    "        ax.plot(\n",
    "            range(record_interval, length * record_interval + 1, record_interval),\n",
    "            np.mean(dataset_results[method][metrics], axis=0),\n",
    "            # dataset_results[method][metrics],\n",
    "            label=method\n",
    "        )\n",
    "    ax.set_title(dataset_name)\n",
    "    ax.set_xlabel(\"Interval\")\n",
    "    # ax.set_yscale(\"log\")\n",
    "    ax.legend()\n",
    "\n",
    "axes[0].set_ylabel(metrics)\n",
    "plt.tight_layout()\n",
    "\n",
    "plt.show()"
   ]
  },
  {
   "cell_type": "code",
   "execution_count": null,
   "id": "b4f12c79",
   "metadata": {},
   "outputs": [],
   "source": []
  },
  {
   "cell_type": "code",
   "execution_count": null,
   "id": "29201e23",
   "metadata": {},
   "outputs": [],
   "source": []
  }
 ],
 "metadata": {
  "kernelspec": {
   "display_name": "Python 3",
   "language": "python",
   "name": "python3"
  },
  "language_info": {
   "codemirror_mode": {
    "name": "ipython",
    "version": 3
   },
   "file_extension": ".py",
   "mimetype": "text/x-python",
   "name": "python",
   "nbconvert_exporter": "python",
   "pygments_lexer": "ipython3",
   "version": "3.12.2"
  }
 },
 "nbformat": 4,
 "nbformat_minor": 5
}
