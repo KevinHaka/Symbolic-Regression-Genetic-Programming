{
 "cells": [
  {
   "cell_type": "code",
   "execution_count": 1,
   "id": "a8167da6",
   "metadata": {},
   "outputs": [
    {
     "name": "stdout",
     "output_type": "stream",
     "text": [
      "Detected IPython. Loading juliacall extension. See https://juliapy.github.io/PythonCall.jl/stable/compat/#IPython\n"
     ]
    }
   ],
   "source": [
    "from symbolic_regression.methods.gp import GP\n",
    "from symbolic_regression.methods.gpshap import GPSHAP\n",
    "from symbolic_regression.utils.pysr_utils import nrmse_loss, train_val_test_split\n",
    "from symbolic_regression.datasets import load_datasets\n",
    "from symbolic_regression.feature_selections.shap import SHAP\n",
    "\n",
    "import numpy as np\n",
    "\n",
    "import matplotlib.pyplot as plt\n",
    "import seaborn as sns\n",
    "\n",
    "import warnings\n",
    "\n",
    "sns.set_theme()\n",
    "warnings.filterwarnings(\"ignore\", category=UserWarning, module=\"pysr\")\n",
    "warnings.filterwarnings(\"ignore\", category=RuntimeWarning)"
   ]
  },
  {
   "cell_type": "code",
   "execution_count": 2,
   "id": "545d2c56",
   "metadata": {},
   "outputs": [
    {
     "data": {
      "text/plain": [
       "dict_keys(['F1'])"
      ]
     },
     "execution_count": 2,
     "metadata": {},
     "output_type": "execute_result"
    }
   ],
   "source": [
    "n_runs = 2\n",
    "\n",
    "pysr_params = {\n",
    "    \"populations\": 1,\n",
    "    \"population_size\": 20,\n",
    "    \"niterations\": 50,\n",
    "    \"binary_operators\": [\"+\", \"-\", \"*\"],\n",
    "    \"unary_operators\": [\"sqrt\", \"inv(x) = 1/x\"],\n",
    "    \"extra_sympy_mappings\": {\"inv\": lambda x: 1/x},\n",
    "    \"verbosity\": 0\n",
    "}\n",
    "\n",
    "basic_params = {\n",
    "    \"loss_function\": nrmse_loss,\n",
    "    \"record_interval\": 5,\n",
    "    \"pysr_params\": pysr_params,\n",
    "}\n",
    "\n",
    "dataset_names = [\n",
    "    \"F1\",\n",
    "    # \"F2\",\n",
    "    # (\"4544_GeographicalOriginalofMusic\", \"4544_GOM\"),\n",
    "    # \"505_tecator\",\n",
    "    # (\"Communities and Crime\", \"CCN\"),\n",
    "    # (\"Communities and Crime Unnormalized\", \"CCUN\"),\n",
    "]\n",
    "\n",
    "datasets = load_datasets(dataset_names)\n",
    "width = max([round(len(name)+10, -1) for name in datasets.keys()])\n",
    "\n",
    "datasets.keys()"
   ]
  },
  {
   "cell_type": "code",
   "execution_count": 5,
   "id": "d778a3ea",
   "metadata": {},
   "outputs": [],
   "source": [
    "gp = GP(**basic_params)\n",
    "gpshp = GPSHAP(**basic_params)\n",
    "\n",
    "shap = SHAP()\n",
    "\n",
    "n_records = gp.n_records\n",
    "\n",
    "methods = {\n",
    "    \"GP\": gp,\n",
    "    \"GPSHAP\": gpshp,\n",
    "}"
   ]
  },
  {
   "cell_type": "code",
   "execution_count": null,
   "id": "0fe63949",
   "metadata": {},
   "outputs": [
    {
     "name": "stdout",
     "output_type": "stream",
     "text": [
      "Running GP on F1        .Done\n"
     ]
    }
   ],
   "source": [
    "results = {}\n",
    "equations = {}\n",
    "features = {}\n",
    "\n",
    "for dataset_name, dataset in datasets.items():\n",
    "    results[dataset_name] = {}\n",
    "    equations[dataset_name] = {}\n",
    "    features[dataset_name] = {}\n",
    "\n",
    "    X = dataset[\"X\"]\n",
    "    y = dataset[\"y\"]\n",
    "\n",
    "    for method_name, method in methods.items():\n",
    "        results[dataset_name][method_name] = {\n",
    "            \"training_losses\": np.empty((n_runs, n_records)),\n",
    "            \"validation_losses\": np.empty((n_runs, n_records)),\n",
    "            \"test_losses\": np.empty((n_runs, n_records)),\n",
    "        }\n",
    "        equations[dataset_name][method_name] = []\n",
    "        features[dataset_name][method_name] = []\n",
    "\n",
    "        print(f\"Running {method_name} on {dataset_name:<{width}}\", end=\"\")\n",
    "\n",
    "        for run in range(n_runs):\n",
    "            print(\".\", end=\"\")\n",
    "\n",
    "            train_val_test_set = train_val_test_split(X, y)\n",
    "\n",
    "            temp_losses, temp_best_eqs, temp_features = method.run(\n",
    "                train_val_test_set\n",
    "            )\n",
    "\n",
    "            results[dataset_name][method_name][\"training_losses\"][run, :] = temp_losses[0]\n",
    "            results[dataset_name][method_name][\"validation_losses\"][run, :] = temp_losses[1]\n",
    "            results[dataset_name][method_name][\"test_losses\"][run, :] = temp_losses[2]\n",
    "            equations[dataset_name][method_name].append(temp_best_eqs)\n",
    "            features[dataset_name][method_name].append(features)\n",
    "\n",
    "        print(\"Done\")"
   ]
  },
  {
   "cell_type": "code",
   "execution_count": 16,
   "id": "43983911",
   "metadata": {},
   "outputs": [
    {
     "data": {
      "image/png": "[encoded data removed]",
      "text/plain": [
       "<Figure size 600x500 with 1 Axes>"
      ]
     },
     "metadata": {},
     "output_type": "display_data"
    }
   ],
   "source": [
    "metrics = 'training_losses'\n",
    "# metrics = 'validation_losses'\n",
    "# metrics = 'test_losses'\n",
    "n_datasets = len(results)\n",
    "record_interval = basic_params['record_interval']\n",
    "fig, axes = plt.subplots(1, n_datasets, figsize=(6 * n_datasets, 5))\n",
    "\n",
    "if n_datasets == 1:\n",
    "    axes = [axes]  # Ensure axes is always iterable\n",
    "\n",
    "for ax, (dataset_name, dataset_results) in zip(axes, results.items()):\n",
    "    # Get the number of intervals from any method (they should all be the same)\n",
    "    method = next(iter(dataset_results))\n",
    "    length = len(dataset_results[method][metrics].mean(axis=0))\n",
    "\n",
    "\n",
    "    for method in dataset_results.keys():\n",
    "        ax.plot(\n",
    "            range(record_interval, length * record_interval + 1, record_interval),\n",
    "            np.mean(dataset_results[method][metrics], axis=0),\n",
    "            # dataset_results[method][metrics],\n",
    "            label=method\n",
    "        )\n",
    "    ax.set_title(dataset_name)\n",
    "    ax.set_xlabel(\"Interval\")\n",
    "    # ax.set_yscale(\"log\")\n",
    "    ax.legend()\n",
    "\n",
    "axes[0].set_ylabel(metrics)\n",
    "plt.tight_layout()\n",
    "\n",
    "plt.show()"
   ]
  },
  {
   "cell_type": "code",
   "execution_count": 28,
   "id": "b4f12c79",
   "metadata": {},
   "outputs": [],
   "source": [
    "X_train = train_val_test_set[0]\n",
    "gp_equation = equations[\"F1\"][\"GP\"][0][0]\n",
    "\n",
    "a = shap._get_shap_values(\n",
    "    X_train=X_train,\n",
    "    gp_equation=gp_equation\n",
    ")"
   ]
  },
  {
   "cell_type": "code",
   "execution_count": 33,
   "id": "29201e23",
   "metadata": {},
   "outputs": [],
   "source": [
    "b = np.mean(a[1], axis=0)"
   ]
  },
  {
   "cell_type": "code",
   "execution_count": 58,
   "id": "b24791a7",
   "metadata": {},
   "outputs": [
    {
     "name": "stdout",
     "output_type": "stream",
     "text": [
      "<class 'numpy.float64'>\n",
      "<class 'numpy.float64'>\n"
     ]
    }
   ],
   "source": [
    "c = zip(a[0], b)\n",
    "\n",
    "for xx in c:\n",
    "    print(type(xx[1]))\n",
    "    # print(f\"{var_name:>10}: {shap_value}\")"
   ]
  },
  {
   "cell_type": "code",
   "execution_count": 54,
   "id": "b2ba5eff",
   "metadata": {},
   "outputs": [
    {
     "name": "stdout",
     "output_type": "stream",
     "text": [
      "(('noise_11', 1.2824888235462485e-15), ('noise_23', -1.2824917511695833e-15))\n"
     ]
    }
   ],
   "source": [
    "c = zip(a[0], b)\n",
    "print(tuple(c))"
   ]
  },
  {
   "cell_type": "code",
   "execution_count": 61,
   "id": "2c9627ec",
   "metadata": {},
   "outputs": [
    {
     "data": {
      "text/plain": [
       "numpy.ndarray"
      ]
     },
     "execution_count": 61,
     "metadata": {},
     "output_type": "execute_result"
    }
   ],
   "source": [
    "type(b)"
   ]
  },
  {
   "cell_type": "code",
   "execution_count": 67,
   "id": "a7911e34",
   "metadata": {},
   "outputs": [
    {
     "data": {
      "text/plain": [
       "numpy.ndarray"
      ]
     },
     "execution_count": 67,
     "metadata": {},
     "output_type": "execute_result"
    }
   ],
   "source": [
    "type(y)"
   ]
  },
  {
   "cell_type": "code",
   "execution_count": null,
   "id": "5fa3bf18",
   "metadata": {},
   "outputs": [],
   "source": []
  }
 ],
 "metadata": {
  "kernelspec": {
   "display_name": "Python 3",
   "language": "python",
   "name": "python3"
  },
  "language_info": {
   "codemirror_mode": {
    "name": "ipython",
    "version": 3
   },
   "file_extension": ".py",
   "mimetype": "text/x-python",
   "name": "python",
   "nbconvert_exporter": "python",
   "pygments_lexer": "ipython3",
   "version": "3.12.2"
  }
 },
 "nbformat": 4,
 "nbformat_minor": 5
}
