{
 "cells": [
  {
   "cell_type": "code",
   "execution_count": 1,
   "id": "a8167da6",
   "metadata": {},
   "outputs": [
    {
     "name": "stdout",
     "output_type": "stream",
     "text": [
      "Detected IPython. Loading juliacall extension. See https://juliapy.github.io/PythonCall.jl/stable/compat/#IPython\n"
     ]
    }
   ],
   "source": [
    "import numpy as np\n",
    "\n",
    "from dask.delayed import delayed\n",
    "from dask.base import compute\n",
    "from dask.diagnostics.progress import ProgressBar\n",
    "\n",
    "from symbolic_regression.methods.gp import GP\n",
    "from symbolic_regression.methods.gpshap import GPSHAP\n",
    "from symbolic_regression.methods.gpcmi import GPCMI\n",
    "from symbolic_regression.methods.rfgp import RFGP\n",
    "\n",
    "from symbolic_regression.utils.pysr_utils import nrmse_loss, train_val_test_split, process_task\n",
    "from symbolic_regression.utils.pysr_utils import results_to_dataframe, plot_results\n",
    "\n",
    "from symbolic_regression.datasets import load_datasets\n",
    "\n",
    "import matplotlib.pyplot as plt\n",
    "import seaborn as sns\n",
    "\n",
    "import warnings\n",
    "\n",
    "sns.set_theme()\n",
    "warnings.filterwarnings(\"ignore\", category=UserWarning, module=\"pysr\")\n",
    "warnings.filterwarnings(\"ignore\", category=RuntimeWarning)"
   ]
  },
  {
   "cell_type": "code",
   "execution_count": 2,
   "id": "545d2c56",
   "metadata": {},
   "outputs": [
    {
     "data": {
      "text/plain": [
       "dict_keys(['F1'])"
      ]
     },
     "execution_count": 2,
     "metadata": {},
     "output_type": "execute_result"
    }
   ],
   "source": [
    "n_runs = 6\n",
    "test_size = 0.2\n",
    "val_size = 0.25\n",
    "n_top_features = None\n",
    "ns = 100\n",
    "ci = 0.99\n",
    "k = 5\n",
    "record_interval = 5\n",
    "n_submodels = 2\n",
    "\n",
    "pysr_params = {\n",
    "    \"populations\": 4,\n",
    "    \"population_size\": 50,\n",
    "    \"niterations\": 60,\n",
    "    \"binary_operators\": [\"+\", \"-\", \"*\"],\n",
    "    \"unary_operators\": [\"sqrt\", \"inv(x) = 1/x\"],\n",
    "    \"extra_sympy_mappings\": {\"inv\": lambda x: 1/x},\n",
    "    \"verbosity\": 0,\n",
    "}\n",
    "\n",
    "dataset_names = [\n",
    "    \"F1\",\n",
    "    # \"F2\",\n",
    "    # (\"4544_GeographicalOriginalofMusic\", \"4544_GOM\"),\n",
    "    # \"505_tecator\",\n",
    "    # (\"Communities and Crime\", \"CCN\"),\n",
    "    # (\"Communities and Crime Unnormalized\", \"CCUN\"),\n",
    "]\n",
    "\n",
    "datasets = load_datasets(dataset_names)\n",
    "datasets.keys()"
   ]
  },
  {
   "cell_type": "code",
   "execution_count": 3,
   "id": "601397c9",
   "metadata": {},
   "outputs": [],
   "source": [
    "gp_params = {\n",
    "    \"loss_function\": nrmse_loss,\n",
    "    \"record_interval\": record_interval,\n",
    "    **pysr_params,\n",
    "}\n",
    "\n",
    "gpshap_params = {\n",
    "    **gp_params\n",
    "}\n",
    "\n",
    "gpcmi_params = {\n",
    "    \"ns\": ns,\n",
    "    \"ci\": ci,\n",
    "    \"k\": k,\n",
    "    **gp_params\n",
    "}\n",
    "\n",
    "shap_params = {\n",
    "    \"test_size\": test_size,\n",
    "    \"val_size\": val_size,\n",
    "    \"n_runs\": n_runs,\n",
    "    \"n_top_features\": n_top_features,\n",
    "    **gp_params,\n",
    "}\n",
    "\n",
    "rfgpcmi_params = {\n",
    "    \"n_submodels\": n_submodels,\n",
    "    \"method_class\": GPCMI,\n",
    "    \"method_params\": gpcmi_params\n",
    "}"
   ]
  },
  {
   "cell_type": "code",
   "execution_count": 4,
   "id": "d778a3ea",
   "metadata": {},
   "outputs": [
    {
     "data": {
      "text/plain": [
       "12"
      ]
     },
     "execution_count": 4,
     "metadata": {},
     "output_type": "execute_result"
    }
   ],
   "source": [
    "gp = GP(**gp_params)\n",
    "gpshap = GPSHAP(**gpshap_params)\n",
    "gpcmi = GPCMI(**gpcmi_params)\n",
    "rfgpcmi = RFGP(**rfgpcmi_params)\n",
    "\n",
    "methods = {\n",
    "    # \"GP\": gp,\n",
    "    # \"GPSHAP\": gpshap,\n",
    "    \"GPCMI\": gpcmi,\n",
    "    \"RFGPCMI\": rfgpcmi,\n",
    "}\n",
    "\n",
    "width_method = max([round(len(name), 0) for name in methods.keys()])\n",
    "width_dataset = max([round(len(name), 0) for name in datasets.keys()])\n",
    "\n",
    "n_records = methods[list(methods.keys())[0]].n_records\n",
    "n_records"
   ]
  },
  {
   "cell_type": "code",
   "execution_count": null,
   "id": "0fe63949",
   "metadata": {},
   "outputs": [],
   "source": [
    "# Sequential execution of tasks\n",
    "\n",
    "results = {}\n",
    "equations = {}\n",
    "features = {}\n",
    "if \"GPSHAP\" in methods:\n",
    "    methods[\"GPSHAP\"].clear_cache()  # Clear cache before starting new tasks\n",
    "\n",
    "for dataset_name, dataset in datasets.items():\n",
    "    results[dataset_name] = {}\n",
    "    equations[dataset_name] = {}\n",
    "    features[dataset_name] = {}\n",
    "    train_val_test_sets = []\n",
    "\n",
    "    X = dataset[\"X\"]\n",
    "    y = dataset[\"y\"]\n",
    "\n",
    "    for _ in range(n_runs):\n",
    "        train_val_test_set = train_val_test_split(X, y)\n",
    "        train_val_test_sets.append(train_val_test_set)\n",
    "\n",
    "    for method_name, method in methods.items():\n",
    "        results[dataset_name][method_name] = {\n",
    "            \"training_losses\": np.empty((n_runs, n_records)),\n",
    "            \"validation_losses\": np.empty((n_runs, n_records)),\n",
    "            \"test_losses\": np.empty((n_runs, n_records)),\n",
    "        }\n",
    "        equations[dataset_name][method_name] = []\n",
    "        features[dataset_name][method_name] = []\n",
    "\n",
    "        print(f\"Running {method_name:<{width_method}} on {dataset_name:<{width_dataset}} \", end=\"\")\n",
    "\n",
    "        if (method_name == \"GPSHAP\"):\n",
    "            if equations[dataset_name].get('GP', False):\n",
    "                X_trains = tuple([train_val_test_set[0] for train_val_test_set in train_val_test_sets])\n",
    "                gp_equations = [eqs[-1] for eqs in equations[dataset_name]['GP']]\n",
    "                \n",
    "                method.precompute_features_from_pretrained_models(X_trains, gp_equations, n_top_features)\n",
    "            \n",
    "            else: method.precompute_features(X, y, **shap_params)\n",
    "\n",
    "        for run in range(n_runs):\n",
    "            print(\".\", end=\"\")\n",
    "\n",
    "            temp_losses, temp_best_eqs, temp_features = method.run(\n",
    "                train_val_test_sets[run]\n",
    "            )\n",
    "\n",
    "            results[dataset_name][method_name][\"training_losses\"][run, :] = temp_losses[0]\n",
    "            results[dataset_name][method_name][\"validation_losses\"][run, :] = temp_losses[1]\n",
    "            results[dataset_name][method_name][\"test_losses\"][run, :] = temp_losses[2]\n",
    "            equations[dataset_name][method_name].append(temp_best_eqs)\n",
    "            features[dataset_name][method_name].append(temp_features)\n",
    "\n",
    "        print(\"Done\")"
   ]
  },
  {
   "cell_type": "code",
   "execution_count": 118,
   "id": "9f7d6f0f",
   "metadata": {},
   "outputs": [
    {
     "data": {
      "image/png": "[encoded data removed]",
      "text/plain": [
       "<Figure size 600x500 with 1 Axes>"
      ]
     },
     "metadata": {},
     "output_type": "display_data"
    }
   ],
   "source": [
    "# metrics = 'training_losses'\n",
    "metrics = 'validation_losses'\n",
    "# metrics = 'test_losses'\n",
    "n_datasets = len(results)\n",
    "# record_interval = gp_params['record_interval']\n",
    "fig, axes = plt.subplots(1, n_datasets, figsize=(6 * n_datasets, 5))\n",
    "\n",
    "if n_datasets == 1:\n",
    "    axes = [axes]  # Ensure axes is always iterable\n",
    "\n",
    "for ax, (dataset_name, dataset_results) in zip(axes, results.items()):\n",
    "    # Get the number of intervals from any method (they should all be the same)\n",
    "    method = next(iter(dataset_results))\n",
    "    length = len(dataset_results[method][metrics].mean(axis=0))\n",
    "\n",
    "\n",
    "    for method in dataset_results.keys():\n",
    "        ax.plot(\n",
    "            range(record_interval, length * record_interval + 1, record_interval),\n",
    "            np.mean(dataset_results[method][metrics], axis=0),\n",
    "            # dataset_results[method][metrics],\n",
    "            label=method\n",
    "        )\n",
    "    ax.set_title(dataset_name)\n",
    "    ax.set_xlabel(\"Interval\")\n",
    "    # ax.set_yscale(\"log\")\n",
    "    ax.legend()\n",
    "\n",
    "axes[0].set_ylabel(metrics)\n",
    "axes[0].set_ylim((0, 1))  # Adjust y-axis limits for better visibility\n",
    "plt.tight_layout()\n",
    "\n",
    "plt.show()"
   ]
  },
  {
   "cell_type": "code",
   "execution_count": 188,
   "id": "6e9ae838",
   "metadata": {},
   "outputs": [
    {
     "name": "stdout",
     "output_type": "stream",
     "text": [
      "[########################################] | 100% Completed | 18m 19s\n"
     ]
    },
    {
     "name": "stderr",
     "output_type": "stream",
     "text": [
      "<lambdifygenerated-672>:2: RuntimeWarning: invalid value encountered in sqrt\n",
      "  return (2*absorbance_36 - principal_component_3 + 1.0300245)*(-absorbance_17 + absorbance_36 + absorbance_45 - absorbance_95 - principal_component_3 + sqrt(absorbance_56 + principal_component_3)) + 0.47114295\n",
      "<lambdifygenerated-673>:2: RuntimeWarning: invalid value encountered in sqrt\n",
      "  return (sqrt(absorbance_36) + 2*absorbance_36 - principal_component_3)*(-absorbance_17 + absorbance_36 + absorbance_45 - absorbance_95 - principal_component_3 + sqrt(absorbance_56 + principal_component_3)) + 0.47114295\n",
      "<lambdifygenerated-674>:2: RuntimeWarning: invalid value encountered in sqrt\n",
      "  return (3*absorbance_36 - principal_component_3 - 2.4624343)*(-absorbance_17 + absorbance_36 + absorbance_45 - absorbance_95 - principal_component_3 + sqrt(absorbance_56 + principal_component_3)) + 2.4909775\n",
      "<lambdifygenerated-675>:2: RuntimeWarning: invalid value encountered in sqrt\n",
      "  return (2*absorbance_36 - principal_component_3 + sqrt(absorbance_36 - 2.1052096))*(-absorbance_17 + absorbance_36 + absorbance_45 - absorbance_95 - principal_component_3 + sqrt(absorbance_56 + principal_component_3)) + 1.7123293\n",
      "<lambdifygenerated-676>:2: RuntimeWarning: invalid value encountered in sqrt\n",
      "  return (sqrt(absorbance_36) + absorbance_36 - principal_component_3 + principal_component_5 + sqrt(absorbance_45 - 1.6575094))*(2*absorbance_36 - absorbance_95 - principal_component_3 + sqrt(absorbance_36 + principal_component_3) - 2.122498)\n",
      "<lambdifygenerated-697>:2: RuntimeWarning: invalid value encountered in sqrt\n",
      "  return (sqrt(absorbance_36) + 2*absorbance_36 - principal_component_3)*(-absorbance_17 + absorbance_36 + absorbance_45 - absorbance_95 - principal_component_3 + sqrt(absorbance_56 + principal_component_3)) + 0.47114295\n",
      "<lambdifygenerated-698>:2: RuntimeWarning: invalid value encountered in sqrt\n",
      "  return (3*absorbance_36 - principal_component_3 - 2.1052096)*(-absorbance_17 + 2*absorbance_45 - absorbance_95 - principal_component_3 + sqrt(absorbance_56 + principal_component_3)) + 0.7124282\n",
      "<lambdifygenerated-699>:2: RuntimeWarning: invalid value encountered in sqrt\n",
      "  return (2*absorbance_36 - principal_component_3 + sqrt(absorbance_36 - 2.1052096))*(-absorbance_17 + 2*absorbance_45 - absorbance_95 - principal_component_3 + sqrt(absorbance_56 + principal_component_3)) + 0.7124282\n",
      "<lambdifygenerated-700>:2: RuntimeWarning: invalid value encountered in sqrt\n",
      "  return -principal_component_4 + (3*absorbance_36 - principal_component_3 - 2.1052096)*(-absorbance_17 + 2*absorbance_45 - absorbance_95 - principal_component_3 + sqrt(absorbance_56 + principal_component_3)) + 0.7124282\n",
      "<lambdifygenerated-715>:2: RuntimeWarning: invalid value encountered in sqrt\n",
      "  return -principal_component_4 + (3*absorbance_36 - principal_component_3 - 2.1052096)*(-absorbance_17 + 2*absorbance_45 - absorbance_95 - principal_component_3 + sqrt(absorbance_56 + principal_component_3)) + 0.7124282\n",
      "<lambdifygenerated-734>:2: RuntimeWarning: invalid value encountered in sqrt\n",
      "  return (2*absorbance_36 + absorbance_85 - principal_component_4 + 0.242499)*(-absorbance_17 + absorbance_45 + absorbance_53 - absorbance_95 - principal_component_3 + sqrt(absorbance_56 + principal_component_3)) - 6.3228955\n",
      "<lambdifygenerated-735>:2: RuntimeWarning: invalid value encountered in sqrt\n",
      "  return (2*absorbance_36 + absorbance_85 - 2*principal_component_4 - 1.3927814)*(-absorbance_17 + 2*absorbance_45 - absorbance_95 - principal_component_3 + sqrt(absorbance_56 + principal_component_3)) - 0.32868084\n",
      "<lambdifygenerated-1214>:2: RuntimeWarning: invalid value encountered in sqrt\n",
      "  return sqrt(-sqrt(absorbance_94) + absorbance_99*(absorbance_92 + absorbance_99 - 1.0312743*principal_component_10)*(absorbance_99*(absorbance_98 + absorbance_99) + principal_component_10**2 - principal_component_10) - moisture)\n"
     ]
    }
   ],
   "source": [
    "# NOTE: The following code is for parallel processing of tasks across datasets and methods.\n",
    "\n",
    "delayed_tasks = {}\n",
    "if \"GPSHAP\" in methods:\n",
    "    methods[\"GPSHAP\"].clear_cache()  # Clear cache before starting new task\n",
    "\n",
    "for dataset_name, dataset in datasets.items():\n",
    "    delayed_tasks[dataset_name] = {}\n",
    "\n",
    "    X = dataset[\"X\"]\n",
    "    y = dataset[\"y\"]\n",
    "\n",
    "    delayed_splits = [delayed(train_val_test_split)(X, y) for _ in range(n_runs)]\n",
    "    \n",
    "    for method_name, method in methods.items():\n",
    "        delayed_tasks[dataset_name][method_name] = []\n",
    "\n",
    "        if method_name == \"GPSHAP\": continue  # Skip GPSHAP for now, as it requires precomputed features\n",
    "\n",
    "        # Create a delayed task for each method and dataset\n",
    "        for run in range(n_runs):\n",
    "            delayed_tasks[dataset_name][method_name].append(\n",
    "                delayed(process_task)(dataset_name, method_name, run, delayed_splits[run], method)\n",
    "            )\n",
    "    \n",
    "    if (\"GPSHAP\" in methods):\n",
    "        if ('GP' in methods):\n",
    "            delayed_X_trains = tuple([delayed_split[0] for delayed_split in delayed_splits])\n",
    "            delayed_gp_equations = [delayed_task['equations'][-1] for delayed_task in delayed_tasks[dataset_name][\"GP\"]]\n",
    "            \n",
    "            # Use GP's equations for GPSHAP\n",
    "            delayed_precomputed_features_task = delayed(methods[\"GPSHAP\"].precompute_features_from_pretrained_models)(\n",
    "                delayed_X_trains, delayed_gp_equations, n_top_features\n",
    "            )\n",
    "\n",
    "        else:\n",
    "            delayed_precomputed_features_task = delayed(methods[\"GPSHAP\"].precompute_features)(\n",
    "                X, y, **shap_params\n",
    "            )\n",
    "\n",
    "        for run in range(n_runs):\n",
    "            delayed_tasks[dataset_name][\"GPSHAP\"].append(\n",
    "                delayed(process_task)(dataset_name, 'GPSHAP', run, delayed_splits[run], methods[\"GPSHAP\"], delayed_precomputed_features_task)\n",
    "            )\n",
    "\n",
    "tasks_to_run = [\n",
    "    task \n",
    "    for methods_dict in delayed_tasks.values() \n",
    "    for task_list in methods_dict.values() \n",
    "    for task in task_list\n",
    "]\n",
    "\n",
    "with ProgressBar():\n",
    "    computed_results = compute(*tasks_to_run, scheduler='processes')\n",
    "\n",
    "results = {}\n",
    "equations = {}\n",
    "features = {}\n",
    "\n",
    "for dataset_name in datasets.keys():\n",
    "    results[dataset_name] = {}\n",
    "    equations[dataset_name] = {}\n",
    "    features[dataset_name] = {}\n",
    "\n",
    "    for method_name in methods.keys():\n",
    "        results[dataset_name][method_name] = {\n",
    "            \"training_losses\": np.empty((n_runs, n_records)),\n",
    "            \"validation_losses\": np.empty((n_runs, n_records)),\n",
    "            \"test_losses\": np.empty((n_runs, n_records)),\n",
    "        }\n",
    "        equations[dataset_name][method_name] = []\n",
    "        features[dataset_name][method_name] = []\n",
    "\n",
    "for result in computed_results:\n",
    "    dataset_name = result['dataset_name']\n",
    "    method_name = result['method_name']\n",
    "    run = result['run']\n",
    "    \n",
    "    results[dataset_name][method_name][\"training_losses\"][run, :] = result['losses'][0]\n",
    "    results[dataset_name][method_name][\"validation_losses\"][run, :] = result['losses'][1]   \n",
    "    results[dataset_name][method_name][\"test_losses\"][run, :] = result['losses'][2]\n",
    "    \n",
    "    equations[dataset_name][method_name].append(result['equations'])\n",
    "    features[dataset_name][method_name].append(result['features'])"
   ]
  },
  {
   "cell_type": "code",
   "execution_count": 189,
   "id": "83d9a025",
   "metadata": {},
   "outputs": [],
   "source": [
    "import pickle\n",
    "import datetime"
   ]
  },
  {
   "cell_type": "code",
   "execution_count": 190,
   "id": "a12d67fe",
   "metadata": {},
   "outputs": [
    {
     "name": "stdout",
     "output_type": "stream",
     "text": [
      "\n",
      "Results saved to data_2025-07-30__00-20-04.pickle\n"
     ]
    }
   ],
   "source": [
    "data = {\n",
    "    \"results\": results,\n",
    "    \"equations\": equations,\n",
    "    \"features\": features\n",
    "}\n",
    "timestamp = datetime.datetime.now().strftime(\"%Y-%m-%d__%H-%M-%S\")\n",
    "filename = f\"data_{timestamp}.pickle\"\n",
    "with open(filename, \"wb\") as f:\n",
    "    pickle.dump(data, f)\n",
    "print(f\"\\nResults saved to {filename}\")"
   ]
  },
  {
   "cell_type": "code",
   "execution_count": 213,
   "id": "b0d2d606",
   "metadata": {},
   "outputs": [],
   "source": [
    "data = pickle.load(open('data_2025-07-30__09-34-10.pickle', \"rb\"))\n",
    "results, features, equations = data['results'], data['features'], data['equations']"
   ]
  },
  {
   "cell_type": "code",
   "execution_count": 214,
   "id": "e4851f5e",
   "metadata": {},
   "outputs": [
    {
     "data": {
      "image/png": "[encoded data removed]",
      "text/plain": [
       "<Figure size 600x500 with 1 Axes>"
      ]
     },
     "metadata": {},
     "output_type": "display_data"
    }
   ],
   "source": [
    "# metrics = 'training_losses'\n",
    "# metrics = 'validation_losses'\n",
    "metrics = 'test_losses'\n",
    "n_datasets = len(results)\n",
    "# record_interval = gp_params['record_interval']\n",
    "\n",
    "fig, axes = plt.subplots(1, n_datasets, figsize=(6 * n_datasets, 5))\n",
    "\n",
    "if n_datasets == 1:\n",
    "    axes = [axes]  # Ensure axes is always iterable\n",
    "\n",
    "for ax, (dataset_name, dataset_results) in zip(axes, results.items()):\n",
    "    # Get the number of intervals from any method (they should all be the same)\n",
    "    method = next(iter(dataset_results))\n",
    "    length = len(dataset_results[method][metrics].mean(axis=0))\n",
    "\n",
    "    for method in dataset_results.keys():\n",
    "        ax.plot(\n",
    "            range(record_interval, length * record_interval + 1, record_interval),\n",
    "            np.median(dataset_results[method][metrics], axis=0),\n",
    "            # dataset_results[method][metrics],\n",
    "            label=method\n",
    "        )\n",
    "    ax.set_title(dataset_name)\n",
    "    ax.set_xlabel(\"Epoch\")\n",
    "    # ax.set_yscale(\"log\")\n",
    "    ax.legend()\n",
    "\n",
    "axes[0].set_ylabel(metrics)\n",
    "# axes[0].set_ylim((0, 1))\n",
    "plt.tight_layout()\n",
    "\n",
    "plt.show()"
   ]
  },
  {
   "cell_type": "code",
   "execution_count": 215,
   "id": "76e6d404",
   "metadata": {},
   "outputs": [],
   "source": [
    "from copy import deepcopy\n",
    "\n",
    "results_copy = deepcopy(results)\n",
    "\n",
    "for dataset_name in results.keys():\n",
    "    for method in results[dataset_name].keys():\n",
    "        for metric in results[dataset_name][method].keys():\n",
    "            results_copy[dataset_name][method][metric] = results[dataset_name][method][metric][:, -1]"
   ]
  },
  {
   "cell_type": "code",
   "execution_count": 216,
   "id": "5dd70864",
   "metadata": {},
   "outputs": [
    {
     "data": {
      "image/png": "[encoded data removed]",
      "text/plain": [
       "<Figure size 1200x500 with 1 Axes>"
      ]
     },
     "metadata": {},
     "output_type": "display_data"
    }
   ],
   "source": [
    "# Convert results to DataFrame    \n",
    "df_results = results_to_dataframe(results_copy)\n",
    "\n",
    "fig, axes = plot_results(\n",
    "    df_results, \n",
    "    # nrows=2, \n",
    "    # ncols=None, \n",
    "    # group_level=\"model\",\n",
    "    # value_level=\"metric\", \n",
    "    value_key=\"test_losses\"\n",
    "    # value_key=\"validation_losses\",\n",
    "    # value_key=\"training_losses\"\n",
    ")\n",
    "\n",
    "fig.figure.set_size_inches(12, 5)\n",
    "fig.tight_layout(w_pad=0.5)\n",
    "fig.suptitle(\"Test Loss for Different Methods\", y=1.04)\n",
    "# fig.supylabel(\"Test Loss\", x=-.02)\n",
    "fig.supxlabel(\"Methods\", y=-.05)\n",
    "\n",
    "# axes[0].set_ylim(-.001, 0.025)\n",
    "# axes[1].set_ylim(.1, 0.2)\n",
    "plt.show()"
   ]
  },
  {
   "cell_type": "code",
   "execution_count": 207,
   "id": "3c358107",
   "metadata": {},
   "outputs": [
    {
     "name": "stdout",
     "output_type": "stream",
     "text": [
      "F1 features:\n",
      "GP: 53\n",
      "GPSHAP: 6\n",
      "GPCMI: 3\n",
      "RFGPCMI: 4\n",
      "\n"
     ]
    }
   ],
   "source": [
    "for dataset_name in features.keys():\n",
    "    print(f\"{dataset_name} features:\")\n",
    "    for method in features[dataset_name].keys():\n",
    "        a = features[dataset_name][method]\n",
    "\n",
    "        if isinstance(a[0], str):\n",
    "            print(f\"{method}: {len(a)}\")\n",
    "        else:\n",
    "\n",
    "            if isinstance(a[0][0], str):\n",
    "                b = list(map(lambda x: len(x), a))\n",
    "                mean_x = np.mean(b)\n",
    "            else:\n",
    "                c = list(map(lambda x: len(set([item for sublist in x for item in sublist])), features[dataset_name][method]))\n",
    "                mean_x = np.mean(c)\n",
    "\n",
    "            print(f\"{method}: {mean_x:.0f}\")\n",
    "    print()\n",
    "            "
   ]
  },
  {
   "cell_type": "code",
   "execution_count": 208,
   "id": "2d852e93",
   "metadata": {},
   "outputs": [
    {
     "data": {
      "text/html": [
       "<div>\n",
       "<style scoped>\n",
       "    .dataframe tbody tr th:only-of-type {\n",
       "        vertical-align: middle;\n",
       "    }\n",
       "\n",
       "    .dataframe tbody tr th {\n",
       "        vertical-align: top;\n",
       "    }\n",
       "\n",
       "    .dataframe thead tr th {\n",
       "        text-align: left;\n",
       "    }\n",
       "\n",
       "    .dataframe thead tr:last-of-type th {\n",
       "        text-align: right;\n",
       "    }\n",
       "</style>\n",
       "<table border=\"1\" class=\"dataframe\">\n",
       "  <thead>\n",
       "    <tr>\n",
       "      <th>dataset</th>\n",
       "      <th colspan=\"12\" halign=\"left\">F1</th>\n",
       "    </tr>\n",
       "    <tr>\n",
       "      <th>method</th>\n",
       "      <th colspan=\"3\" halign=\"left\">GP</th>\n",
       "      <th colspan=\"3\" halign=\"left\">GPSHAP</th>\n",
       "      <th colspan=\"3\" halign=\"left\">GPCMI</th>\n",
       "      <th colspan=\"3\" halign=\"left\">RFGPCMI</th>\n",
       "    </tr>\n",
       "    <tr>\n",
       "      <th>metric</th>\n",
       "      <th>training_losses</th>\n",
       "      <th>validation_losses</th>\n",
       "      <th>test_losses</th>\n",
       "      <th>training_losses</th>\n",
       "      <th>validation_losses</th>\n",
       "      <th>test_losses</th>\n",
       "      <th>training_losses</th>\n",
       "      <th>validation_losses</th>\n",
       "      <th>test_losses</th>\n",
       "      <th>training_losses</th>\n",
       "      <th>validation_losses</th>\n",
       "      <th>test_losses</th>\n",
       "    </tr>\n",
       "    <tr>\n",
       "      <th>run</th>\n",
       "      <th></th>\n",
       "      <th></th>\n",
       "      <th></th>\n",
       "      <th></th>\n",
       "      <th></th>\n",
       "      <th></th>\n",
       "      <th></th>\n",
       "      <th></th>\n",
       "      <th></th>\n",
       "      <th></th>\n",
       "      <th></th>\n",
       "      <th></th>\n",
       "    </tr>\n",
       "  </thead>\n",
       "  <tbody>\n",
       "    <tr>\n",
       "      <th>0</th>\n",
       "      <td>0.111106</td>\n",
       "      <td>0.172566</td>\n",
       "      <td>0.133552</td>\n",
       "      <td>0.050303</td>\n",
       "      <td>0.091874</td>\n",
       "      <td>0.064862</td>\n",
       "      <td>0.062707</td>\n",
       "      <td>0.087826</td>\n",
       "      <td>0.065532</td>\n",
       "      <td>0.078251</td>\n",
       "      <td>0.129785</td>\n",
       "      <td>0.080349</td>\n",
       "    </tr>\n",
       "    <tr>\n",
       "      <th>1</th>\n",
       "      <td>0.092784</td>\n",
       "      <td>0.189355</td>\n",
       "      <td>0.135975</td>\n",
       "      <td>0.005075</td>\n",
       "      <td>0.010738</td>\n",
       "      <td>0.007398</td>\n",
       "      <td>0.017591</td>\n",
       "      <td>0.016116</td>\n",
       "      <td>0.036927</td>\n",
       "      <td>0.062234</td>\n",
       "      <td>0.121280</td>\n",
       "      <td>0.238854</td>\n",
       "    </tr>\n",
       "    <tr>\n",
       "      <th>2</th>\n",
       "      <td>0.029066</td>\n",
       "      <td>0.057365</td>\n",
       "      <td>0.043103</td>\n",
       "      <td>0.012695</td>\n",
       "      <td>0.023190</td>\n",
       "      <td>0.023205</td>\n",
       "      <td>0.022009</td>\n",
       "      <td>0.014887</td>\n",
       "      <td>0.017093</td>\n",
       "      <td>0.022210</td>\n",
       "      <td>0.045699</td>\n",
       "      <td>0.029335</td>\n",
       "    </tr>\n",
       "    <tr>\n",
       "      <th>3</th>\n",
       "      <td>0.051063</td>\n",
       "      <td>0.069366</td>\n",
       "      <td>0.139715</td>\n",
       "      <td>0.002020</td>\n",
       "      <td>0.002764</td>\n",
       "      <td>0.003424</td>\n",
       "      <td>0.269075</td>\n",
       "      <td>0.368137</td>\n",
       "      <td>0.456000</td>\n",
       "      <td>0.005546</td>\n",
       "      <td>0.007722</td>\n",
       "      <td>0.015425</td>\n",
       "    </tr>\n",
       "  </tbody>\n",
       "</table>\n",
       "</div>"
      ],
      "text/plain": [
       "dataset              F1                                                \\\n",
       "method               GP                                        GPSHAP   \n",
       "metric  training_losses validation_losses test_losses training_losses   \n",
       "run                                                                     \n",
       "0              0.111106          0.172566    0.133552        0.050303   \n",
       "1              0.092784          0.189355    0.135975        0.005075   \n",
       "2              0.029066          0.057365    0.043103        0.012695   \n",
       "3              0.051063          0.069366    0.139715        0.002020   \n",
       "\n",
       "dataset                                                                  \\\n",
       "method                                          GPCMI                     \n",
       "metric  validation_losses test_losses training_losses validation_losses   \n",
       "run                                                                       \n",
       "0                0.091874    0.064862        0.062707          0.087826   \n",
       "1                0.010738    0.007398        0.017591          0.016116   \n",
       "2                0.023190    0.023205        0.022009          0.014887   \n",
       "3                0.002764    0.003424        0.269075          0.368137   \n",
       "\n",
       "dataset                                                            \n",
       "method                      RFGPCMI                                \n",
       "metric  test_losses training_losses validation_losses test_losses  \n",
       "run                                                                \n",
       "0          0.065532        0.078251          0.129785    0.080349  \n",
       "1          0.036927        0.062234          0.121280    0.238854  \n",
       "2          0.017093        0.022210          0.045699    0.029335  \n",
       "3          0.456000        0.005546          0.007722    0.015425  "
      ]
     },
     "execution_count": 208,
     "metadata": {},
     "output_type": "execute_result"
    }
   ],
   "source": [
    "df_results"
   ]
  },
  {
   "cell_type": "code",
   "execution_count": 179,
   "id": "380438a3",
   "metadata": {},
   "outputs": [],
   "source": [
    "a = [1,1,1,1,2]"
   ]
  },
  {
   "cell_type": "code",
   "execution_count": 180,
   "id": "504d63f9",
   "metadata": {},
   "outputs": [
    {
     "data": {
      "text/plain": [
       "(1.2, 1.0, 0.4)"
      ]
     },
     "execution_count": 180,
     "metadata": {},
     "output_type": "execute_result"
    }
   ],
   "source": [
    "np.mean(a), np.median(a), np.std(a)"
   ]
  },
  {
   "cell_type": "code",
   "execution_count": 7,
   "id": "679d43d9",
   "metadata": {},
   "outputs": [],
   "source": [
    "from symbolic_regression.feature_selections.cmi import select_features as sf_cmi"
   ]
  },
  {
   "cell_type": "code",
   "execution_count": 8,
   "id": "82a6f59c",
   "metadata": {},
   "outputs": [],
   "source": [
    "X, y = datasets['F1']['X'], datasets['F1']['y']"
   ]
  },
  {
   "cell_type": "code",
   "execution_count": 12,
   "id": "580d2f9a",
   "metadata": {},
   "outputs": [
    {
     "data": {
      "text/plain": [
       "(['X2', 'X1', 'X3'],\n",
       " [0.5951836148762437, 0.47042391149950347, 0.21195857718326508])"
      ]
     },
     "execution_count": 12,
     "metadata": {},
     "output_type": "execute_result"
    }
   ],
   "source": [
    "sf_cmi(\n",
    "    X, \n",
    "    y, \n",
    "    ns=10000,\n",
    "    ci=ci, \n",
    "    k=k,\n",
    ")"
   ]
  },
  {
   "cell_type": "code",
   "execution_count": null,
   "id": "6281e47f",
   "metadata": {},
   "outputs": [],
   "source": []
  },
  {
   "cell_type": "code",
   "execution_count": null,
   "id": "83ec972e",
   "metadata": {},
   "outputs": [],
   "source": []
  }
 ],
 "metadata": {
  "kernelspec": {
   "display_name": "Python 3",
   "language": "python",
   "name": "python3"
  },
  "language_info": {
   "codemirror_mode": {
    "name": "ipython",
    "version": 3
   },
   "file_extension": ".py",
   "mimetype": "text/x-python",
   "name": "python",
   "nbconvert_exporter": "python",
   "pygments_lexer": "ipython3",
   "version": "3.12.2"
  }
 },
 "nbformat": 4,
 "nbformat_minor": 5
}
