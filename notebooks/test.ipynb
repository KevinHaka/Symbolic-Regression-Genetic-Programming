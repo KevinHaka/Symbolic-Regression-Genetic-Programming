{
 "cells": [
  {
   "cell_type": "code",
   "execution_count": 1,
   "id": "a8167da6",
   "metadata": {},
   "outputs": [
    {
     "name": "stdout",
     "output_type": "stream",
     "text": [
      "Detected IPython. Loading juliacall extension. See https://juliapy.github.io/PythonCall.jl/stable/compat/#IPython\n"
     ]
    }
   ],
   "source": [
    "import numpy as np\n",
    "from joblib import Parallel, delayed\n",
    "\n",
    "from symbolic_regression.methods.gp import GP\n",
    "from symbolic_regression.methods.gpshap import GPSHAP\n",
    "from symbolic_regression.methods.gpcmi import GPCMI\n",
    "\n",
    "from symbolic_regression.utils.pysr_utils import nrmse_loss, train_val_test_split\n",
    "from symbolic_regression.datasets import load_datasets\n",
    "\n",
    "\n",
    "import matplotlib.pyplot as plt\n",
    "import seaborn as sns\n",
    "\n",
    "import warnings\n",
    "\n",
    "sns.set_theme()\n",
    "warnings.filterwarnings(\"ignore\", category=UserWarning, module=\"pysr\")\n",
    "warnings.filterwarnings(\"ignore\", category=RuntimeWarning)"
   ]
  },
  {
   "cell_type": "code",
   "execution_count": 2,
   "id": "545d2c56",
   "metadata": {},
   "outputs": [
    {
     "data": {
      "text/plain": [
       "dict_keys(['F1'])"
      ]
     },
     "execution_count": 2,
     "metadata": {},
     "output_type": "execute_result"
    }
   ],
   "source": [
    "n_runs = 30\n",
    "test_size = 0.2\n",
    "val_size = 0.25\n",
    "n_top_features = None\n",
    "k = 5\n",
    "ci = 0.99\n",
    "record_interval = 5\n",
    "\n",
    "pysr_params = {\n",
    "    \"populations\": 5,\n",
    "    \"population_size\": 20,\n",
    "    \"niterations\": 50,\n",
    "    \"binary_operators\": [\"+\", \"-\", \"*\"],\n",
    "    \"unary_operators\": [\"sqrt\", \"inv(x) = 1/x\"],\n",
    "    \"extra_sympy_mappings\": {\"inv\": lambda x: 1/x},\n",
    "    \"verbosity\": 0\n",
    "}\n",
    "\n",
    "dataset_names = [\n",
    "    \"F1\",\n",
    "    # \"F2\",\n",
    "    # (\"4544_GeographicalOriginalofMusic\", \"4544_GOM\"),\n",
    "    # \"505_tecator\",\n",
    "    # (\"Communities and Crime\", \"CCN\"),\n",
    "    # (\"Communities and Crime Unnormalized\", \"CCUN\"),\n",
    "]\n",
    "\n",
    "datasets = load_datasets(dataset_names)\n",
    "width = max([round(len(name)+10, -1) for name in datasets.keys()])\n",
    "\n",
    "datasets.keys()"
   ]
  },
  {
   "cell_type": "code",
   "execution_count": 3,
   "id": "601397c9",
   "metadata": {},
   "outputs": [],
   "source": [
    "gp_params = {\n",
    "    \"loss_function\": nrmse_loss,\n",
    "    \"record_interval\": record_interval,\n",
    "    **pysr_params,\n",
    "}\n",
    "\n",
    "gpshap_params = {**gp_params}\n",
    "\n",
    "gpcmi_params = {\n",
    "    **gp_params,\n",
    "    \"k\": k,\n",
    "    \"ci\": ci\n",
    "}\n",
    "\n",
    "shap_params = {\n",
    "    \"test_size\": test_size,\n",
    "    \"val_size\": val_size,\n",
    "    \"n_runs\": n_runs,\n",
    "    \"n_top_features\": n_top_features,\n",
    "    **gp_params\n",
    "}"
   ]
  },
  {
   "cell_type": "code",
   "execution_count": 4,
   "id": "d778a3ea",
   "metadata": {},
   "outputs": [
    {
     "data": {
      "text/plain": [
       "10"
      ]
     },
     "execution_count": 4,
     "metadata": {},
     "output_type": "execute_result"
    }
   ],
   "source": [
    "gp = GP(**gp_params)\n",
    "gpshap = GPSHAP(**gpshap_params)\n",
    "gpcmi = GPCMI(**gpcmi_params)\n",
    "\n",
    "methods = {\n",
    "    \"GP\": gp,\n",
    "    \"GPSHAP\": gpshap,\n",
    "    \"GPCMI\": gpcmi\n",
    "}\n",
    "\n",
    "n_records = methods[list(methods.keys())[0]].n_records\n",
    "n_records"
   ]
  },
  {
   "cell_type": "code",
   "execution_count": 5,
   "id": "4a4ec036",
   "metadata": {},
   "outputs": [
    {
     "name": "stdout",
     "output_type": "stream",
     "text": [
      "{}\n"
     ]
    }
   ],
   "source": [
    "print(gpshap._feature_cache)\n",
    "gpshap._feature_cache = {}"
   ]
  },
  {
   "cell_type": "code",
   "execution_count": null,
   "id": "0fe63949",
   "metadata": {},
   "outputs": [
    {
     "name": "stdout",
     "output_type": "stream",
     "text": [
      "Running GP on F1        ..............................Done\n",
      "Running GPSHAP on F1         (cached)\n",
      "Cashed equations found.\n",
      "Selected features: ['X1', 'X2', 'X3', 'noise_37', 'noise_27', 'noise_3']\n",
      "..............................Done\n",
      "Running GPCMI on F1        ..............................Done\n"
     ]
    }
   ],
   "source": [
    "results = {}\n",
    "equations = {}\n",
    "features = {}\n",
    "\n",
    "for dataset_name, dataset in datasets.items():\n",
    "    results[dataset_name] = {}\n",
    "    equations[dataset_name] = {}\n",
    "    features[dataset_name] = {}\n",
    "    train_val_test_sets = []\n",
    "\n",
    "    X = dataset[\"X\"]\n",
    "    y = dataset[\"y\"]\n",
    "\n",
    "    for _ in range(n_runs):\n",
    "        train_val_test_set = train_val_test_split(X, y)\n",
    "        train_val_test_sets.append(train_val_test_set)\n",
    "\n",
    "    for method_name, method in methods.items():\n",
    "        results[dataset_name][method_name] = {\n",
    "            \"training_losses\": np.empty((n_runs, n_records)),\n",
    "            \"validation_losses\": np.empty((n_runs, n_records)),\n",
    "            \"test_losses\": np.empty((n_runs, n_records)),\n",
    "        }\n",
    "        equations[dataset_name][method_name] = []\n",
    "        features[dataset_name][method_name] = []\n",
    "\n",
    "        print(f\"Running {method_name} on {dataset_name:<{width}}\", end=\"\")\n",
    "\n",
    "        if (method_name == \"GPSHAP\"):\n",
    "            if equations[dataset_name].get('GP', False):\n",
    "                X_trains = tuple([train_val_test_set[0] for train_val_test_set in train_val_test_sets])\n",
    "                gp_equations = [eqs[-1] for eqs in equations[dataset_name]['GP']]\n",
    "                method.precompute_features_from_pretrained_models(X_trains, gp_equations)\n",
    "            \n",
    "            else: method.precompute_features(X, y, **shap_params)\n",
    "\n",
    "        for run in range(n_runs):\n",
    "            print(\".\", end=\"\")\n",
    "\n",
    "            temp_losses, temp_best_eqs, temp_features = method.run(\n",
    "                train_val_test_sets[run]\n",
    "            )\n",
    "\n",
    "            results[dataset_name][method_name][\"training_losses\"][run, :] = temp_losses[0]\n",
    "            results[dataset_name][method_name][\"validation_losses\"][run, :] = temp_losses[1]\n",
    "            results[dataset_name][method_name][\"test_losses\"][run, :] = temp_losses[2]\n",
    "            equations[dataset_name][method_name].append(temp_best_eqs)\n",
    "            features[dataset_name][method_name].append(temp_features)\n",
    "\n",
    "        print(\"Done\")"
   ]
  },
  {
   "cell_type": "code",
   "execution_count": null,
   "id": "6e9ae838",
   "metadata": {},
   "outputs": [],
   "source": [
    "# NOTE: The following code is for parallel processing of tasks across datasets and methods.\n",
    "\n",
    "all_tasks = []\n",
    "for dataset_name, dataset in datasets.items():\n",
    "    X = dataset[\"X\"]\n",
    "    y = dataset[\"y\"]\n",
    "    \n",
    "    for method_name, method in methods.items():\n",
    "        for run in range(n_runs):\n",
    "            all_tasks.append((dataset_name, method_name, run, X, y, method))\n",
    "\n",
    "# Function για κάθε task\n",
    "def process_task(task):\n",
    "    dataset_name, method_name, run, X, y, method = task\n",
    "    \n",
    "    train_val_test_set = train_val_test_split(X, y)\n",
    "    temp_losses, temp_best_eqs, temp_features = method.run(train_val_test_set)\n",
    "    \n",
    "    return {\n",
    "        'dataset_name': dataset_name,\n",
    "        'method_name': method_name,\n",
    "        'run': run,\n",
    "        'losses': temp_losses,\n",
    "        'equations': temp_best_eqs,\n",
    "        'features': temp_features\n",
    "    }\n",
    "\n",
    "# Παραλληλοποίηση όλων των tasks μαζί\n",
    "print(f\"Processing {len(all_tasks)} tasks on {min(len(all_tasks), 20)} cores...\")\n",
    "task_results: list[dict] = Parallel(n_jobs=-1)(delayed(process_task)(task) for task in all_tasks) # type: ignore\n",
    "\n",
    "# Οργάνωση των αποτελεσμάτων\n",
    "results = {}\n",
    "equations = {}\n",
    "features = {}\n",
    "\n",
    "for result in task_results:\n",
    "    dataset_name = result['dataset_name']\n",
    "    method_name = result['method_name']\n",
    "    run = result['run']\n",
    "    \n",
    "    # Αρχικοποίηση δομών αν χρειάζεται\n",
    "    if dataset_name not in results:\n",
    "        results[dataset_name] = {}\n",
    "        equations[dataset_name] = {}\n",
    "        features[dataset_name] = {}\n",
    "    \n",
    "    if method_name not in results[dataset_name]:\n",
    "        results[dataset_name][method_name] = {\n",
    "            \"training_losses\": np.empty((n_runs, n_records)),\n",
    "            \"validation_losses\": np.empty((n_runs, n_records)),\n",
    "            \"test_losses\": np.empty((n_runs, n_records)),\n",
    "        }\n",
    "        equations[dataset_name][method_name] = []\n",
    "        features[dataset_name][method_name] = []\n",
    "    \n",
    "    # Αποθήκευση αποτελεσμάτων\n",
    "    results[dataset_name][method_name][\"training_losses\"][run, :] = result['losses'][0]\n",
    "    results[dataset_name][method_name][\"validation_losses\"][run, :] = result['losses'][1]\n",
    "    results[dataset_name][method_name][\"test_losses\"][run, :] = result['losses'][2]\n",
    "    equations[dataset_name][method_name].append(result['equations'])\n",
    "    features[dataset_name][method_name].append(result['features'])"
   ]
  },
  {
   "cell_type": "code",
   "execution_count": 7,
   "id": "43983911",
   "metadata": {},
   "outputs": [
    {
     "data": {
      "image/png": "[encoded data removed]",
      "text/plain": [
       "<Figure size 600x500 with 1 Axes>"
      ]
     },
     "metadata": {},
     "output_type": "display_data"
    }
   ],
   "source": [
    "metrics = 'training_losses'\n",
    "# metrics = 'validation_losses'\n",
    "# metrics = 'test_losses'\n",
    "n_datasets = len(results)\n",
    "# record_interval = gp_params['record_interval']\n",
    "fig, axes = plt.subplots(1, n_datasets, figsize=(6 * n_datasets, 5))\n",
    "\n",
    "if n_datasets == 1:\n",
    "    axes = [axes]  # Ensure axes is always iterable\n",
    "\n",
    "for ax, (dataset_name, dataset_results) in zip(axes, results.items()):\n",
    "    # Get the number of intervals from any method (they should all be the same)\n",
    "    method = next(iter(dataset_results))\n",
    "    length = len(dataset_results[method][metrics].mean(axis=0))\n",
    "\n",
    "\n",
    "    for method in dataset_results.keys():\n",
    "        ax.plot(\n",
    "            range(record_interval, length * record_interval + 1, record_interval),\n",
    "            np.mean(dataset_results[method][metrics], axis=0),\n",
    "            # dataset_results[method][metrics],\n",
    "            label=method\n",
    "        )\n",
    "    ax.set_title(dataset_name)\n",
    "    ax.set_xlabel(\"Interval\")\n",
    "    # ax.set_yscale(\"log\")\n",
    "    ax.legend()\n",
    "\n",
    "axes[0].set_ylabel(metrics)\n",
    "plt.tight_layout()\n",
    "\n",
    "plt.show()"
   ]
  },
  {
   "cell_type": "code",
   "execution_count": 11,
   "id": "b4f12c79",
   "metadata": {},
   "outputs": [
    {
     "data": {
      "text/plain": [
       "[['X1', 'X2', 'X3', 'noise_37', 'noise_27', 'noise_3'],\n",
       " ['X1', 'X2', 'X3', 'noise_37', 'noise_27', 'noise_3'],\n",
       " ['X1', 'X2', 'X3', 'noise_37', 'noise_27', 'noise_3'],\n",
       " ['X1', 'X2', 'X3', 'noise_37', 'noise_27', 'noise_3'],\n",
       " ['X1', 'X2', 'X3', 'noise_37', 'noise_27', 'noise_3'],\n",
       " ['X1', 'X2', 'X3', 'noise_37', 'noise_27', 'noise_3'],\n",
       " ['X1', 'X2', 'X3', 'noise_37', 'noise_27', 'noise_3'],\n",
       " ['X1', 'X2', 'X3', 'noise_37', 'noise_27', 'noise_3'],\n",
       " ['X1', 'X2', 'X3', 'noise_37', 'noise_27', 'noise_3'],\n",
       " ['X1', 'X2', 'X3', 'noise_37', 'noise_27', 'noise_3'],\n",
       " ['X1', 'X2', 'X3', 'noise_37', 'noise_27', 'noise_3'],\n",
       " ['X1', 'X2', 'X3', 'noise_37', 'noise_27', 'noise_3'],\n",
       " ['X1', 'X2', 'X3', 'noise_37', 'noise_27', 'noise_3'],\n",
       " ['X1', 'X2', 'X3', 'noise_37', 'noise_27', 'noise_3'],\n",
       " ['X1', 'X2', 'X3', 'noise_37', 'noise_27', 'noise_3'],\n",
       " ['X1', 'X2', 'X3', 'noise_37', 'noise_27', 'noise_3'],\n",
       " ['X1', 'X2', 'X3', 'noise_37', 'noise_27', 'noise_3'],\n",
       " ['X1', 'X2', 'X3', 'noise_37', 'noise_27', 'noise_3'],\n",
       " ['X1', 'X2', 'X3', 'noise_37', 'noise_27', 'noise_3'],\n",
       " ['X1', 'X2', 'X3', 'noise_37', 'noise_27', 'noise_3'],\n",
       " ['X1', 'X2', 'X3', 'noise_37', 'noise_27', 'noise_3'],\n",
       " ['X1', 'X2', 'X3', 'noise_37', 'noise_27', 'noise_3'],\n",
       " ['X1', 'X2', 'X3', 'noise_37', 'noise_27', 'noise_3'],\n",
       " ['X1', 'X2', 'X3', 'noise_37', 'noise_27', 'noise_3'],\n",
       " ['X1', 'X2', 'X3', 'noise_37', 'noise_27', 'noise_3'],\n",
       " ['X1', 'X2', 'X3', 'noise_37', 'noise_27', 'noise_3'],\n",
       " ['X1', 'X2', 'X3', 'noise_37', 'noise_27', 'noise_3'],\n",
       " ['X1', 'X2', 'X3', 'noise_37', 'noise_27', 'noise_3'],\n",
       " ['X1', 'X2', 'X3', 'noise_37', 'noise_27', 'noise_3'],\n",
       " ['X1', 'X2', 'X3', 'noise_37', 'noise_27', 'noise_3']]"
      ]
     },
     "execution_count": 11,
     "metadata": {},
     "output_type": "execute_result"
    }
   ],
   "source": [
    "features['F1']['GPSHAP']"
   ]
  },
  {
   "cell_type": "code",
   "execution_count": null,
   "id": "5fa3bf18",
   "metadata": {},
   "outputs": [],
   "source": []
  }
 ],
 "metadata": {
  "kernelspec": {
   "display_name": "Python 3",
   "language": "python",
   "name": "python3"
  },
  "language_info": {
   "codemirror_mode": {
    "name": "ipython",
    "version": 3
   },
   "file_extension": ".py",
   "mimetype": "text/x-python",
   "name": "python",
   "nbconvert_exporter": "python",
   "pygments_lexer": "ipython3",
   "version": "3.12.2"
  }
 },
 "nbformat": 4,
 "nbformat_minor": 5
}
