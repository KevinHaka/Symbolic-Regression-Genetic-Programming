{
 "cells": [
  {
   "cell_type": "code",
   "execution_count": 1,
   "id": "f9df9a1d",
   "metadata": {},
   "outputs": [
    {
     "name": "stdout",
     "output_type": "stream",
     "text": [
      "Detected IPython. Loading juliacall extension. See https://juliapy.github.io/PythonCall.jl/stable/compat/#IPython\n"
     ]
    }
   ],
   "source": [
    "import numpy as np\n",
    "import pickle\n",
    "\n",
    "from sr_gp_methods import gp, gpshap, gpcmi, new_method\n",
    "from datasets import load_datasets\n",
    "from pysr_utils import results_to_dataframe, plot_results, nrmse_loss\n",
    "\n",
    "import matplotlib.pyplot as plt\n",
    "import seaborn as sns\n",
    "\n",
    "import warnings\n",
    "\n",
    "sns.set_theme()\n",
    "warnings.filterwarnings(\"ignore\", category=UserWarning, module=\"pysr\")\n",
    "warnings.filterwarnings(\"ignore\", category=RuntimeWarning)"
   ]
  },
  {
   "cell_type": "code",
   "execution_count": 2,
   "id": "53889316",
   "metadata": {},
   "outputs": [
    {
     "data": {
      "text/plain": [
       "dict_keys(['4544_GOM'])"
      ]
     },
     "execution_count": 2,
     "metadata": {},
     "output_type": "execute_result"
    }
   ],
   "source": [
    "dataset_names = [\n",
    "    # \"F1\",\n",
    "    # \"F2\",\n",
    "    (\"4544_GeographicalOriginalofMusic\", \"4544_GOM\"),\n",
    "    # \"505_tecator\",\n",
    "#     (\"Communities and Crime\", \"CCN\"),\n",
    "    # (\"Communities and Crime Unnormalized\", \"CCUN\"),\n",
    "]\n",
    "\n",
    "datasets = load_datasets(dataset_names)\n",
    "width = max([round(len(name)+10, -1) for name in datasets.keys()])\n",
    "\n",
    "datasets.keys()"
   ]
  },
  {
   "cell_type": "code",
   "execution_count": 3,
   "id": "ab4c3dec",
   "metadata": {},
   "outputs": [],
   "source": [
    "n_submodels = 3\n",
    "top_features_ratio = None #0.05\n",
    "\n",
    "pysr_params = {\n",
    "    \"populations\": 1,\n",
    "    \"population_size\": 20,\n",
    "    \"niterations\": 50,\n",
    "    \"binary_operators\": [\"+\", \"-\", \"*\"],\n",
    "    \"unary_operators\": [\"sqrt\", \"inv(x) = 1/x\"],\n",
    "    \"extra_sympy_mappings\": {\"inv\": lambda x: 1/x},\n",
    "    \"verbosity\": 0\n",
    "}\n",
    "\n",
    "cmi_fs_params = {\n",
    "    \"k\": 5,\n",
    "    \"top_features_ratio\": None,\n",
    "    # \"min_relative_mi_gain\": 0.2,\n",
    "    \"alpha\": 0.01,  # Significance level for CMI\n",
    "}\n",
    "\n",
    "basic_params = {\n",
    "    \"loss_function\": nrmse_loss,\n",
    "    \"n_runs\": 30,\n",
    "    \"record_interval\": 5,\n",
    "    \"pysr_params\": pysr_params\n",
    "}"
   ]
  },
  {
   "cell_type": "code",
   "execution_count": 8,
   "id": "fa99a1ee",
   "metadata": {},
   "outputs": [
    {
     "name": "stdout",
     "output_type": "stream",
     "text": [
      "********************\n",
      "|     4544_GOM     |\n",
      "********************\n",
      "GP -----------------\n"
     ]
    },
    {
     "name": "stderr",
     "output_type": "stream",
     "text": [
      "GP : 100%|██████████| 30/30 [01:26<00:00,  2.89s/it]\n"
     ]
    },
    {
     "name": "stdout",
     "output_type": "stream",
     "text": [
      "GPSHAP -------------\n"
     ]
    },
    {
     "name": "stderr",
     "output_type": "stream",
     "text": [
      "GPSHAP : 100%|██████████| 30/30 [01:23<00:00,  2.77s/it]\n",
      "c:\\Users\\kevin\\AppData\\Local\\Programs\\Python\\Python312\\Lib\\site-packages\\pysr\\sr.py:2747: RuntimeWarning: divide by zero encountered in log\n",
      "  cur_score = -np.log(curMSE / lastMSE) / (curComplexity - lastComplexity)\n",
      "<lambdifygenerated-1>:2: RuntimeWarning: invalid value encountered in sqrt\n",
      "  return sqrt(V47)\n",
      "<lambdifygenerated-155>:2: RuntimeWarning: invalid value encountered in sqrt\n",
      "  return 0.415213631760808*(V97 + V99)*sqrt(-0.233876148795179*V39 + 0.311359890897085*V42 + 1)\n",
      "<lambdifygenerated-169>:2: RuntimeWarning: invalid value encountered in sqrt\n",
      "  return 0.415213547466843*(V97 + V99)*sqrt(-0.23387624375523*V39 + 0.311360017317635*V42 + 1)\n"
     ]
    },
    {
     "name": "stdout",
     "output_type": "stream",
     "text": [
      "\n"
     ]
    }
   ],
   "source": [
    "results = {}\n",
    "features = {}\n",
    "equations = {}\n",
    "\n",
    "for dataset_name, dataset in datasets.items():\n",
    "    title = f\"{dataset_name}\"\n",
    "    print(\"*\" * width)\n",
    "    print(f\"|{title.center(width - 2)}|\")\n",
    "    print(\"*\" * width)\n",
    "    \n",
    "    X = dataset['X']\n",
    "    y = dataset['y']\n",
    "\n",
    "    basic_params.update({\"X\": X, \"y\": y})\n",
    "\n",
    "    results[dataset_name] = {}\n",
    "    features[dataset_name] = {}\n",
    "    equations[dataset_name] = {}\n",
    "\n",
    "    # Run GP and store results\n",
    "    temp_results, features[dataset_name]['GP'], equations[dataset_name]['GP'], train_val_test_sets_list = gp(**basic_params)\n",
    "    results[dataset_name].update(temp_results)\n",
    "    \n",
    "    # Run GPSHAP and store results\n",
    "    temp_results, features[dataset_name]['GPSHAP'], equations[dataset_name]['GPSHAP'] = gpshap(\n",
    "        **basic_params,\n",
    "        top_features_ratio=top_features_ratio,\n",
    "        gp_best_equations=equations[dataset_name]['GP'],\n",
    "        train_val_test_sets_list=train_val_test_sets_list,\n",
    "    )\n",
    "    results[dataset_name].update(temp_results)\n",
    "\n",
    "    # # Run GPCMI and store results\n",
    "    # temp_results, features[dataset_name][\"gpCMI\"], equations[dataset_name][\"gpCMI\"] = gpcmi(\n",
    "    #     **basic_params,\n",
    "    #     fs_params=cmi_fs_params,\n",
    "    # )\n",
    "    # results[dataset_name].update(temp_results)\n",
    "\n",
    "    # # Run new_method and store results\n",
    "    # temp_results, features[dataset_name][\"gpNEW\"], equations[dataset_name][\"gpNEW\"] = new_method(\n",
    "    #     **basic_params,\n",
    "    #     n_submodels=n_submodels,\n",
    "    #     fs_params=cmi_fs_params,\n",
    "    # )\n",
    "    # results[dataset_name].update(temp_results)\n",
    "\n",
    "    print()"
   ]
  },
  {
   "cell_type": "code",
   "execution_count": 9,
   "id": "e59150e0",
   "metadata": {},
   "outputs": [],
   "source": [
    "data = (results, features, equations)\n",
    "pickle.dump(data, open(\"data.pickle\", \"wb\"))"
   ]
  },
  {
   "cell_type": "code",
   "execution_count": 10,
   "id": "082f2a00",
   "metadata": {},
   "outputs": [],
   "source": [
    "results, features, equations = pickle.load(open(\"data.pickle\", \"rb\"))"
   ]
  },
  {
   "cell_type": "code",
   "execution_count": 11,
   "id": "3e2fc080",
   "metadata": {},
   "outputs": [
    {
     "data": {
      "image/png": "[encoded data removed]",
      "text/plain": [
       "<Figure size 600x500 with 1 Axes>"
      ]
     },
     "metadata": {},
     "output_type": "display_data"
    }
   ],
   "source": [
    "# metrics = 'training_loss'\n",
    "# metrics = 'validation_loss'\n",
    "metrics = 'test_loss'\n",
    "n_datasets = len(results)\n",
    "record_interval = basic_params['record_interval']\n",
    "fig, axes = plt.subplots(1, n_datasets, figsize=(6 * n_datasets, 5))\n",
    "\n",
    "if n_datasets == 1:\n",
    "    axes = [axes]  # Ensure axes is always iterable\n",
    "\n",
    "for ax, (dataset_name, dataset_results) in zip(axes, results.items()):\n",
    "    # Get the number of intervals from any method (they should all be the same)\n",
    "    method = next(iter(dataset_results))\n",
    "    length = len(dataset_results[method][metrics].mean(axis=0))\n",
    "\n",
    "    for method in dataset_results.keys():\n",
    "        ax.plot(\n",
    "            range(record_interval, length * record_interval + 1, record_interval),\n",
    "            np.nanmedian(dataset_results[method][metrics], axis=0),\n",
    "            label=method\n",
    "        )\n",
    "    ax.set_title(dataset_name)\n",
    "    ax.set_xlabel(\"Interval\")\n",
    "    # ax.set_yscale(\"log\")\n",
    "    ax.legend()\n",
    "\n",
    "axes[0].set_ylabel(metrics)\n",
    "plt.tight_layout()\n",
    "\n",
    "plt.show()"
   ]
  },
  {
   "cell_type": "code",
   "execution_count": 12,
   "id": "5cf839c6",
   "metadata": {},
   "outputs": [],
   "source": [
    "from copy import deepcopy\n",
    "\n",
    "results_copy = deepcopy(results)\n",
    "\n",
    "for dataset_name in results.keys():\n",
    "    for method in results[dataset_name].keys():\n",
    "        for metric in results[dataset_name][method].keys():\n",
    "            results_copy[dataset_name][method][metric] = results[dataset_name][method][metric][:, -1]"
   ]
  },
  {
   "cell_type": "code",
   "execution_count": 13,
   "id": "333fe23a",
   "metadata": {},
   "outputs": [
    {
     "data": {
      "image/png": "[encoded data removed]",
      "text/plain": [
       "<Figure size 1200x500 with 1 Axes>"
      ]
     },
     "metadata": {},
     "output_type": "display_data"
    }
   ],
   "source": [
    "# Convert results to DataFrame    \n",
    "df_results = results_to_dataframe(results_copy)\n",
    "\n",
    "fig, axes = plot_results(\n",
    "    df_results, \n",
    "    # nrows=2, \n",
    "    # ncols=None, \n",
    "    # group_level=\"model\",\n",
    "    # value_level=\"metric\", \n",
    "    # value_key=\"test_loss\"\n",
    "    # value_key=\"validation_loss\",\n",
    "    # value_key=\"training_loss\"\n",
    ")\n",
    "\n",
    "fig.figure.set_size_inches(12, 5)\n",
    "fig.tight_layout(w_pad=0.5)\n",
    "fig.suptitle(\"Test Loss for Different Methods\", y=1.04)\n",
    "# fig.supylabel(\"Test Loss\", x=-.02)\n",
    "fig.supxlabel(\"Methods\", y=-.05)\n",
    "\n",
    "# axes[0].set_ylim(-.001, 0.2)\n",
    "# axes[1].set_ylim(.1, 0.2)\n",
    "plt.show()"
   ]
  },
  {
   "cell_type": "code",
   "execution_count": 17,
   "id": "345e87b3",
   "metadata": {},
   "outputs": [
    {
     "name": "stdout",
     "output_type": "stream",
     "text": [
      "F1 features:\n",
      "GP: 53\n",
      "GPSHAP: 6\n",
      "\n"
     ]
    }
   ],
   "source": [
    "for dataset_name in features.keys():\n",
    "    print(f\"{dataset_name} features:\")\n",
    "    for method in features[dataset_name].keys():\n",
    "        a = features[dataset_name][method]\n",
    "\n",
    "        if isinstance(a[0], str):\n",
    "            print(f\"{method}: {len(a)}\")\n",
    "        else:\n",
    "\n",
    "            if isinstance(a[0][0], str):\n",
    "                b = list(map(lambda x: len(x), a))\n",
    "                mean_x = np.mean(b)\n",
    "            else:\n",
    "                c = list(map(lambda x: len(set([item for sublist in x for item in sublist])), features[dataset_name][method]))\n",
    "                mean_x = np.mean(c)\n",
    "\n",
    "            print(f\"{method}: {mean_x:.0f}\")\n",
    "    print()\n",
    "            "
   ]
  },
  {
   "cell_type": "code",
   "execution_count": 22,
   "id": "3384de67",
   "metadata": {},
   "outputs": [
    {
     "data": {
      "text/latex": [
       "$\\displaystyle pctPolicAsian pctVacantBoarded \\sqrt{policCarsAvail}$"
      ],
      "text/plain": [
       "pctPolicAsian*pctVacantBoarded*sqrt(policCarsAvail)"
      ]
     },
     "execution_count": 22,
     "metadata": {},
     "output_type": "execute_result"
    }
   ],
   "source": [
    "equations['CCUN']['gpNEW'][0][1].sympy_format.simplify()"
   ]
  },
  {
   "cell_type": "code",
   "execution_count": 19,
   "id": "760e2ae8",
   "metadata": {},
   "outputs": [
    {
     "data": {
      "text/plain": [
       "7"
      ]
     },
     "execution_count": 19,
     "metadata": {},
     "output_type": "execute_result"
    }
   ],
   "source": [
    "len(features['CCUN']['gpNEW'][3][1])"
   ]
  },
  {
   "cell_type": "code",
   "execution_count": 11,
   "id": "780214d1",
   "metadata": {},
   "outputs": [
    {
     "data": {
      "text/plain": [
       "12"
      ]
     },
     "execution_count": 11,
     "metadata": {},
     "output_type": "execute_result"
    }
   ],
   "source": [
    "import os\n",
    "os.cpu_count()"
   ]
  },
  {
   "cell_type": "code",
   "execution_count": null,
   "id": "30070771",
   "metadata": {},
   "outputs": [],
   "source": []
  }
 ],
 "metadata": {
  "kernelspec": {
   "display_name": "Python 3",
   "language": "python",
   "name": "python3"
  },
  "language_info": {
   "codemirror_mode": {
    "name": "ipython",
    "version": 3
   },
   "file_extension": ".py",
   "mimetype": "text/x-python",
   "name": "python",
   "nbconvert_exporter": "python",
   "pygments_lexer": "ipython3",
   "version": "3.12.2"
  }
 },
 "nbformat": 4,
 "nbformat_minor": 5
}
