{
 "cells": [
  {
   "cell_type": "code",
   "execution_count": 1,
   "id": "f9df9a1d",
   "metadata": {},
   "outputs": [
    {
     "name": "stdout",
     "output_type": "stream",
     "text": [
      "Detected IPython. Loading juliacall extension. See https://juliapy.github.io/PythonCall.jl/stable/compat/#IPython\n"
     ]
    }
   ],
   "source": [
    "import numpy as np\n",
    "import pickle\n",
    "\n",
    "from sr_gp_methods import gp, gpshap, gpcmi, new_method\n",
    "from datasets import load_datasets\n",
    "from pysr_utils import results_to_dataframe, plot_results, nrmse_loss\n",
    "\n",
    "import matplotlib.pyplot as plt\n",
    "import seaborn as sns\n",
    "\n",
    "import warnings\n",
    "\n",
    "sns.set_theme()\n",
    "warnings.filterwarnings(\"ignore\", category=UserWarning, module=\"pysr\")\n",
    "warnings.filterwarnings(\"ignore\", category=RuntimeWarning)"
   ]
  },
  {
   "cell_type": "code",
   "execution_count": 14,
   "id": "53889316",
   "metadata": {},
   "outputs": [
    {
     "data": {
      "text/plain": [
       "dict_keys(['CCUN'])"
      ]
     },
     "execution_count": 14,
     "metadata": {},
     "output_type": "execute_result"
    }
   ],
   "source": [
    "dataset_names = [\n",
    "    # \"F1\",\n",
    "    # \"F2\",\n",
    "    # (\"4544_GeographicalOriginalofMusic\", \"4544_GOM\"),\n",
    "    # \"505_tecator\",\n",
    "#     (\"Communities and Crime\", \"CCN\"),\n",
    "    (\"Communities and Crime Unnormalized\", \"CCUN\"),\n",
    "]\n",
    "\n",
    "datasets = load_datasets(dataset_names)\n",
    "width = max([round(len(name)+10, -1) for name in datasets.keys()])\n",
    "\n",
    "datasets.keys()"
   ]
  },
  {
   "cell_type": "code",
   "execution_count": 4,
   "id": "ab4c3dec",
   "metadata": {},
   "outputs": [],
   "source": [
    "n_submodels = 3\n",
    "top_features_ratio = None #0.05\n",
    "\n",
    "pysr_params = {\n",
    "    \"populations\": 5,\n",
    "    \"population_size\": 20,\n",
    "    \"niterations\": 150,\n",
    "    \"binary_operators\": [\"+\", \"-\", \"*\"],\n",
    "    \"unary_operators\": [\"sqrt\", \"inv(x) = 1/x\"],\n",
    "    \"extra_sympy_mappings\": {\"inv\": lambda x: 1/x},\n",
    "    \"verbosity\": 0\n",
    "}\n",
    "\n",
    "cmi_fs_params = {\n",
    "    \"k\": 5,\n",
    "    \"top_features_ratio\": None,\n",
    "    # \"min_relative_mi_gain\": 0.2,\n",
    "    \"alpha\": 0.01,  # Significance level for CMI\n",
    "}\n",
    "\n",
    "basic_params = {\n",
    "    \"loss_function\": nrmse_loss,\n",
    "    \"n_runs\": 10,\n",
    "    \"record_interval\": 5,\n",
    "    \"pysr_params\": pysr_params\n",
    "}"
   ]
  },
  {
   "cell_type": "code",
   "execution_count": 16,
   "id": "fa99a1ee",
   "metadata": {},
   "outputs": [
    {
     "name": "stdout",
     "output_type": "stream",
     "text": [
      "**********\n",
      "|  CCUN  |\n",
      "**********\n",
      "gpCMI --------------\n",
      ".......... 10\n",
      "gpNEW --------------\n",
      ".......... 10\n",
      "\n"
     ]
    }
   ],
   "source": [
    "results = {}\n",
    "features = {}\n",
    "equations = {}\n",
    "\n",
    "for dataset_name, dataset in datasets.items():\n",
    "    title = f\"{dataset_name}\"\n",
    "    print(\"*\" * width)\n",
    "    print(f\"|{title.center(width - 2)}|\")\n",
    "    print(\"*\" * width)\n",
    "    \n",
    "    X = dataset['X']\n",
    "    y = dataset['y']\n",
    "\n",
    "    basic_params.update({\"X\": X, \"y\": y})\n",
    "\n",
    "    results[dataset_name] = {}\n",
    "    features[dataset_name] = {}\n",
    "    equations[dataset_name] = {}\n",
    "\n",
    "    # Run GP and store results\n",
    "    # temp_results, features[dataset_name]['GP'], equations[dataset_name]['GP'], train_val_test_sets_list = gp(**basic_params)\n",
    "    # results[dataset_name].update(temp_results)\n",
    "    \n",
    "    # # Run GPSHAP and store results\n",
    "    # temp_results, features[dataset_name]['GPSHAP'], equations[dataset_name]['GPSHAP'] = gpshap(\n",
    "    #     **basic_params,\n",
    "    #     top_features_ratio=top_features_ratio,\n",
    "    #     gp_best_equations=equations[dataset_name]['GP'],\n",
    "    #     train_val_test_sets_list=train_val_test_sets_list,\n",
    "    # )\n",
    "    # results[dataset_name].update(temp_results)\n",
    "\n",
    "    # Run GPCMI and store results\n",
    "    temp_results, features[dataset_name][\"gpCMI\"], equations[dataset_name][\"gpCMI\"] = gpcmi(\n",
    "        **basic_params,\n",
    "        fs_params=cmi_fs_params,\n",
    "    )\n",
    "    results[dataset_name].update(temp_results)\n",
    "\n",
    "    # Run new_method and store results\n",
    "    temp_results, features[dataset_name][\"gpNEW\"], equations[dataset_name][\"gpNEW\"] = new_method(\n",
    "        **basic_params,\n",
    "        n_submodels=n_submodels,\n",
    "        fs_params=cmi_fs_params,\n",
    "    )\n",
    "    results[dataset_name].update(temp_results)\n",
    "\n",
    "    print()"
   ]
  },
  {
   "cell_type": "code",
   "execution_count": 27,
   "id": "e59150e0",
   "metadata": {},
   "outputs": [],
   "source": [
    "data = (results, features, equations)\n",
    "pickle.dump(data, open(\"data.pickle\", \"wb\"))"
   ]
  },
  {
   "cell_type": "code",
   "execution_count": 2,
   "id": "082f2a00",
   "metadata": {},
   "outputs": [],
   "source": [
    "results, features, equations = pickle.load(open(\"data.pickle\", \"rb\"))"
   ]
  },
  {
   "cell_type": "code",
   "execution_count": 7,
   "id": "3e2fc080",
   "metadata": {},
   "outputs": [
    {
     "data": {
      "image/png": "[encoded data removed]",
      "text/plain": [
       "<Figure size 600x500 with 1 Axes>"
      ]
     },
     "metadata": {},
     "output_type": "display_data"
    }
   ],
   "source": [
    "# metrics = 'training_loss'\n",
    "# metrics = 'validation_loss'\n",
    "metrics = 'test_loss'\n",
    "n_datasets = len(results)\n",
    "record_interval = basic_params['record_interval']\n",
    "fig, axes = plt.subplots(1, n_datasets, figsize=(6 * n_datasets, 5))\n",
    "\n",
    "if n_datasets == 1:\n",
    "    axes = [axes]  # Ensure axes is always iterable\n",
    "\n",
    "for ax, (dataset_name, dataset_results) in zip(axes, results.items()):\n",
    "    # Get the number of intervals from any method (they should all be the same)\n",
    "    method = next(iter(dataset_results))\n",
    "    length = len(dataset_results[method][metrics].mean(axis=0))\n",
    "\n",
    "    for method in dataset_results.keys():\n",
    "        ax.plot(\n",
    "            range(record_interval, length * record_interval + 1, record_interval),\n",
    "            np.nanmedian(dataset_results[method][metrics], axis=0),\n",
    "            label=method\n",
    "        )\n",
    "    ax.set_title(dataset_name)\n",
    "    ax.set_xlabel(\"Interval\")\n",
    "    # ax.set_yscale(\"log\")\n",
    "    ax.legend()\n",
    "\n",
    "axes[0].set_ylabel(metrics)\n",
    "plt.tight_layout()\n",
    "\n",
    "plt.show()"
   ]
  },
  {
   "cell_type": "code",
   "execution_count": 8,
   "id": "5cf839c6",
   "metadata": {},
   "outputs": [],
   "source": [
    "from copy import deepcopy\n",
    "\n",
    "results_copy = deepcopy(results)\n",
    "\n",
    "for dataset_name in results.keys():\n",
    "    for method in results[dataset_name].keys():\n",
    "        for metric in results[dataset_name][method].keys():\n",
    "            results_copy[dataset_name][method][metric] = results[dataset_name][method][metric][:, -1]"
   ]
  },
  {
   "cell_type": "code",
   "execution_count": 16,
   "id": "c2bc7120",
   "metadata": {},
   "outputs": [
    {
     "data": {
      "text/html": [
       "<div>\n",
       "<style scoped>\n",
       "    .dataframe tbody tr th:only-of-type {\n",
       "        vertical-align: middle;\n",
       "    }\n",
       "\n",
       "    .dataframe tbody tr th {\n",
       "        vertical-align: top;\n",
       "    }\n",
       "\n",
       "    .dataframe thead tr th {\n",
       "        text-align: left;\n",
       "    }\n",
       "\n",
       "    .dataframe thead tr:last-of-type th {\n",
       "        text-align: right;\n",
       "    }\n",
       "</style>\n",
       "<table border=\"1\" class=\"dataframe\">\n",
       "  <thead>\n",
       "    <tr>\n",
       "      <th>dataset</th>\n",
       "      <th colspan=\"6\" halign=\"left\">CCUN</th>\n",
       "    </tr>\n",
       "    <tr>\n",
       "      <th>method</th>\n",
       "      <th colspan=\"3\" halign=\"left\">gpCMI</th>\n",
       "      <th colspan=\"3\" halign=\"left\">gpNEW</th>\n",
       "    </tr>\n",
       "    <tr>\n",
       "      <th>metric</th>\n",
       "      <th>training_loss</th>\n",
       "      <th>validation_loss</th>\n",
       "      <th>test_loss</th>\n",
       "      <th>training_loss</th>\n",
       "      <th>validation_loss</th>\n",
       "      <th>test_loss</th>\n",
       "    </tr>\n",
       "    <tr>\n",
       "      <th>run</th>\n",
       "      <th></th>\n",
       "      <th></th>\n",
       "      <th></th>\n",
       "      <th></th>\n",
       "      <th></th>\n",
       "      <th></th>\n",
       "    </tr>\n",
       "  </thead>\n",
       "  <tbody>\n",
       "    <tr>\n",
       "      <th>0</th>\n",
       "      <td>0.125209</td>\n",
       "      <td>0.119160</td>\n",
       "      <td>0.184199</td>\n",
       "      <td>0.121044</td>\n",
       "      <td>0.145056</td>\n",
       "      <td>0.147371</td>\n",
       "    </tr>\n",
       "    <tr>\n",
       "      <th>1</th>\n",
       "      <td>0.131281</td>\n",
       "      <td>0.142641</td>\n",
       "      <td>0.130893</td>\n",
       "      <td>0.110603</td>\n",
       "      <td>0.134642</td>\n",
       "      <td>0.147558</td>\n",
       "    </tr>\n",
       "    <tr>\n",
       "      <th>2</th>\n",
       "      <td>0.126722</td>\n",
       "      <td>0.166248</td>\n",
       "      <td>0.140458</td>\n",
       "      <td>0.106895</td>\n",
       "      <td>0.134880</td>\n",
       "      <td>0.172221</td>\n",
       "    </tr>\n",
       "    <tr>\n",
       "      <th>3</th>\n",
       "      <td>0.111187</td>\n",
       "      <td>0.169457</td>\n",
       "      <td>0.160434</td>\n",
       "      <td>0.132777</td>\n",
       "      <td>0.148527</td>\n",
       "      <td>0.132711</td>\n",
       "    </tr>\n",
       "    <tr>\n",
       "      <th>4</th>\n",
       "      <td>0.139279</td>\n",
       "      <td>0.154184</td>\n",
       "      <td>0.124771</td>\n",
       "      <td>0.141959</td>\n",
       "      <td>0.117491</td>\n",
       "      <td>0.172079</td>\n",
       "    </tr>\n",
       "    <tr>\n",
       "      <th>5</th>\n",
       "      <td>0.127720</td>\n",
       "      <td>0.127540</td>\n",
       "      <td>0.158568</td>\n",
       "      <td>0.119000</td>\n",
       "      <td>0.162492</td>\n",
       "      <td>0.143753</td>\n",
       "    </tr>\n",
       "    <tr>\n",
       "      <th>6</th>\n",
       "      <td>0.131601</td>\n",
       "      <td>0.154819</td>\n",
       "      <td>0.138872</td>\n",
       "      <td>0.135221</td>\n",
       "      <td>0.127826</td>\n",
       "      <td>0.180240</td>\n",
       "    </tr>\n",
       "    <tr>\n",
       "      <th>7</th>\n",
       "      <td>0.118603</td>\n",
       "      <td>0.108481</td>\n",
       "      <td>0.211774</td>\n",
       "      <td>0.120076</td>\n",
       "      <td>0.176673</td>\n",
       "      <td>0.136159</td>\n",
       "    </tr>\n",
       "    <tr>\n",
       "      <th>8</th>\n",
       "      <td>0.108251</td>\n",
       "      <td>0.145313</td>\n",
       "      <td>0.164680</td>\n",
       "      <td>0.118306</td>\n",
       "      <td>0.143084</td>\n",
       "      <td>0.184511</td>\n",
       "    </tr>\n",
       "    <tr>\n",
       "      <th>9</th>\n",
       "      <td>0.133713</td>\n",
       "      <td>0.136559</td>\n",
       "      <td>0.160852</td>\n",
       "      <td>0.119767</td>\n",
       "      <td>0.123899</td>\n",
       "      <td>0.148339</td>\n",
       "    </tr>\n",
       "  </tbody>\n",
       "</table>\n",
       "</div>"
      ],
      "text/plain": [
       "dataset          CCUN                                                          \\\n",
       "method          gpCMI                                   gpNEW                   \n",
       "metric  training_loss validation_loss test_loss training_loss validation_loss   \n",
       "run                                                                             \n",
       "0            0.125209        0.119160  0.184199      0.121044        0.145056   \n",
       "1            0.131281        0.142641  0.130893      0.110603        0.134642   \n",
       "2            0.126722        0.166248  0.140458      0.106895        0.134880   \n",
       "3            0.111187        0.169457  0.160434      0.132777        0.148527   \n",
       "4            0.139279        0.154184  0.124771      0.141959        0.117491   \n",
       "5            0.127720        0.127540  0.158568      0.119000        0.162492   \n",
       "6            0.131601        0.154819  0.138872      0.135221        0.127826   \n",
       "7            0.118603        0.108481  0.211774      0.120076        0.176673   \n",
       "8            0.108251        0.145313  0.164680      0.118306        0.143084   \n",
       "9            0.133713        0.136559  0.160852      0.119767        0.123899   \n",
       "\n",
       "dataset            \n",
       "method             \n",
       "metric  test_loss  \n",
       "run                \n",
       "0        0.147371  \n",
       "1        0.147558  \n",
       "2        0.172221  \n",
       "3        0.132711  \n",
       "4        0.172079  \n",
       "5        0.143753  \n",
       "6        0.180240  \n",
       "7        0.136159  \n",
       "8        0.184511  \n",
       "9        0.148339  "
      ]
     },
     "execution_count": 16,
     "metadata": {},
     "output_type": "execute_result"
    }
   ],
   "source": [
    "df_results"
   ]
  },
  {
   "cell_type": "code",
   "execution_count": null,
   "id": "e8225625",
   "metadata": {},
   "outputs": [],
   "source": []
  },
  {
   "cell_type": "code",
   "execution_count": 17,
   "id": "333fe23a",
   "metadata": {},
   "outputs": [
    {
     "data": {
      "image/png": "[encoded data removed]",
      "text/plain": [
       "<Figure size 1200x500 with 1 Axes>"
      ]
     },
     "metadata": {},
     "output_type": "display_data"
    }
   ],
   "source": [
    "# Convert results to DataFrame    \n",
    "df_results = results_to_dataframe(results_copy)\n",
    "\n",
    "fig, axes = plot_results(\n",
    "    df_results, \n",
    "    # nrows=2, \n",
    "    # ncols=None, \n",
    "    # group_level=\"model\",\n",
    "    # value_level=\"metric\", \n",
    "    # value_key=\"test_loss\"\n",
    "    # value_key=\"validation_loss\",\n",
    "    # value_key=\"training_loss\"\n",
    ")\n",
    "\n",
    "fig.figure.set_size_inches(12, 5)\n",
    "fig.tight_layout(w_pad=0.5)\n",
    "fig.suptitle(\"Test Loss for Different Methods\", y=1.04)\n",
    "# fig.supylabel(\"Test Loss\", x=-.02)\n",
    "fig.supxlabel(\"Methods\", y=-.05)\n",
    "\n",
    "# axes[0].set_ylim(-.001, 0.2)\n",
    "# axes[1].set_ylim(.1, 0.2)\n",
    "plt.show()"
   ]
  },
  {
   "cell_type": "code",
   "execution_count": 21,
   "id": "345e87b3",
   "metadata": {},
   "outputs": [
    {
     "name": "stdout",
     "output_type": "stream",
     "text": [
      "CCUN features:\n",
      "gpCMI: 12\n",
      "gpNEW: 30\n",
      "\n"
     ]
    }
   ],
   "source": [
    "for dataset_name in features.keys():\n",
    "    print(f\"{dataset_name} features:\")\n",
    "    for method in features[dataset_name].keys():\n",
    "        a = features[dataset_name][method]\n",
    "\n",
    "        if isinstance(a[0], str):\n",
    "            print(f\"{method}: {len(a)}\")\n",
    "        else:\n",
    "\n",
    "            if isinstance(a[0][0], str):\n",
    "                b = list(map(lambda x: len(x), a))\n",
    "                mean_x = np.mean(b)\n",
    "            else:\n",
    "                c = list(map(lambda x: len(set([item for sublist in x for item in sublist])), features[dataset_name][method]))\n",
    "                mean_x = np.mean(c)\n",
    "\n",
    "            print(f\"{method}: {mean_x:.0f}\")\n",
    "    print()\n",
    "            "
   ]
  },
  {
   "cell_type": "code",
   "execution_count": 22,
   "id": "3384de67",
   "metadata": {},
   "outputs": [
    {
     "data": {
      "text/latex": [
       "$\\displaystyle pctPolicAsian pctVacantBoarded \\sqrt{policCarsAvail}$"
      ],
      "text/plain": [
       "pctPolicAsian*pctVacantBoarded*sqrt(policCarsAvail)"
      ]
     },
     "execution_count": 22,
     "metadata": {},
     "output_type": "execute_result"
    }
   ],
   "source": [
    "equations['CCUN']['gpNEW'][0][1].sympy_format.simplify()"
   ]
  },
  {
   "cell_type": "code",
   "execution_count": 19,
   "id": "760e2ae8",
   "metadata": {},
   "outputs": [
    {
     "data": {
      "text/plain": [
       "7"
      ]
     },
     "execution_count": 19,
     "metadata": {},
     "output_type": "execute_result"
    }
   ],
   "source": [
    "len(features['CCUN']['gpNEW'][3][1])"
   ]
  },
  {
   "cell_type": "code",
   "execution_count": null,
   "id": "4412df28",
   "metadata": {},
   "outputs": [],
   "source": []
  }
 ],
 "metadata": {
  "kernelspec": {
   "display_name": "Python 3",
   "language": "python",
   "name": "python3"
  },
  "language_info": {
   "codemirror_mode": {
    "name": "ipython",
    "version": 3
   },
   "file_extension": ".py",
   "mimetype": "text/x-python",
   "name": "python",
   "nbconvert_exporter": "python",
   "pygments_lexer": "ipython3",
   "version": "3.12.2"
  }
 },
 "nbformat": 4,
 "nbformat_minor": 5
}
