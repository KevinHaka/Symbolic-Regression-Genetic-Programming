{
 "cells": [
  {
   "cell_type": "code",
   "execution_count": 1,
   "id": "f9df9a1d",
   "metadata": {},
   "outputs": [
    {
     "name": "stdout",
     "output_type": "stream",
     "text": [
      "Detected IPython. Loading juliacall extension. See https://juliapy.github.io/PythonCall.jl/stable/compat/#IPython\n"
     ]
    }
   ],
   "source": [
    "import numpy as np\n",
    "import pickle\n",
    "\n",
    "from sr_gp_methods import gp, gpshap, gpcmi, new_method\n",
    "from datasets import load_datasets\n",
    "from pysr_utils import results_to_dataframe, plot_results, nrmse_loss, train_val_test_split\n",
    "\n",
    "import matplotlib.pyplot as plt\n",
    "import seaborn as sns\n",
    "\n",
    "import warnings\n",
    "\n",
    "sns.set_theme()\n",
    "warnings.filterwarnings(\"ignore\", category=UserWarning, module=\"pysr\")\n",
    "warnings.filterwarnings(\"ignore\", category=RuntimeWarning)"
   ]
  },
  {
   "cell_type": "code",
   "execution_count": null,
   "id": "53889316",
   "metadata": {},
   "outputs": [
    {
     "data": {
      "text/plain": [
       "dict_keys(['F1'])"
      ]
     },
     "execution_count": 2,
     "metadata": {},
     "output_type": "execute_result"
    }
   ],
   "source": [
    "dataset_names = [\n",
    "    \"F1\",\n",
    "    # \"F2\",\n",
    "    # (\"4544_GeographicalOriginalofMusic\", \"4544_GOM\"),\n",
    "    # \"505_tecator\",\n",
    "    # (\"Communities and Crime\", \"CCN\"),\n",
    "    # (\"Communities and Crime Unnormalized\", \"CCUN\"),\n",
    "]\n",
    "\n",
    "datasets = load_datasets(dataset_names)\n",
    "width = max([round(len(name)+10, -1) for name in datasets.keys()])\n",
    "\n",
    "datasets.keys()"
   ]
  },
  {
   "cell_type": "code",
   "execution_count": null,
   "id": "ab4c3dec",
   "metadata": {},
   "outputs": [],
   "source": [
    "n_submodels = 2\n",
    "n_runs = 10\n",
    "test_size = 0.2\n",
    "val_size = 0.25\n",
    "\n",
    "pysr_params = {\n",
    "    \"populations\": 5,\n",
    "    \"population_size\": 20,\n",
    "    \"niterations\": 50,\n",
    "    \"binary_operators\": [\"+\", \"-\", \"*\"],\n",
    "    \"unary_operators\": [\"sqrt\", \"inv(x) = 1/x\"],\n",
    "    \"extra_sympy_mappings\": {\"inv\": lambda x: 1/x},\n",
    "    \"verbosity\": 0\n",
    "}\n",
    "\n",
    "cmi_fs_params = {\n",
    "    \"k\": 5,\n",
    "    \"alpha\": 0.01,  # Significance level for CMI\n",
    "}\n",
    "\n",
    "basic_params = {\n",
    "    \"loss_function\": nrmse_loss,\n",
    "    \"record_interval\": 5,\n",
    "    \"pysr_params\": pysr_params\n",
    "}"
   ]
  },
  {
   "cell_type": "code",
   "execution_count": null,
   "id": "fa99a1ee",
   "metadata": {},
   "outputs": [
    {
     "name": "stdout",
     "output_type": "stream",
     "text": [
      "**********\n",
      "|   F1   |\n",
      "**********\n",
      "<class 'list'>\n",
      "gpcmi_1/3 ----------\n",
      "gpCMI --------------\n"
     ]
    },
    {
     "name": "stderr",
     "output_type": "stream",
     "text": [
      "gpCMI feature selection: 100%|██████████| 5/5 [00:00<00:00, 777.93it/s]\n",
      "gpCMI : 100%|██████████| 5/5 [00:00<00:00, 832.86it/s]\n"
     ]
    },
    {
     "name": "stdout",
     "output_type": "stream",
     "text": [
      "gpcmi_2/3 ----------\n",
      "gpCMI --------------\n"
     ]
    },
    {
     "name": "stderr",
     "output_type": "stream",
     "text": [
      "gpCMI feature selection: 100%|██████████| 5/5 [00:00<00:00, 5002.75it/s]\n",
      "gpCMI : 100%|██████████| 5/5 [00:00<00:00, 4211.99it/s]\n"
     ]
    },
    {
     "name": "stdout",
     "output_type": "stream",
     "text": [
      "gpcmi_3/3 ----------\n",
      "gpCMI --------------\n"
     ]
    },
    {
     "name": "stderr",
     "output_type": "stream",
     "text": [
      "gpCMI feature selection: 100%|██████████| 5/5 [00:00<00:00, 2500.78it/s]\n",
      "gpCMI : 100%|██████████| 5/5 [00:00<00:00, 1518.14it/s]\n"
     ]
    },
    {
     "name": "stdout",
     "output_type": "stream",
     "text": [
      "\n",
      "Detected IPython. Loading juliacall extension. See https://juliapy.github.io/PythonCall.jl/stable/compat/#IPython\n",
      "Detected IPython. Loading juliacall extension. See https://juliapy.github.io/PythonCall.jl/stable/compat/#IPython\n",
      "Detected IPython. Loading juliacall extension. See https://juliapy.github.io/PythonCall.jl/stable/compat/#IPython\n",
      "Detected IPython. Loading juliacall extension. See https://juliapy.github.io/PythonCall.jl/stable/compat/#IPython\n"
     ]
    }
   ],
   "source": [
    "results = {}\n",
    "features = {}\n",
    "equations = {}\n",
    "\n",
    "for dataset_name, dataset in datasets.items():\n",
    "    title = f\"{dataset_name}\"\n",
    "    print(\"*\" * width)\n",
    "    print(f\"|{title.center(width - 2)}|\")\n",
    "    print(\"*\" * width)\n",
    "    \n",
    "    X = dataset['X']\n",
    "    y = dataset['y']\n",
    "\n",
    "    train_val_test_sets_list = [\n",
    "        train_val_test_split(\n",
    "            X=X,\n",
    "            y=y,\n",
    "            test_size=test_size,\n",
    "            val_size=val_size\n",
    "        ) for _ in range(n_runs)\n",
    "    ]\n",
    "    print(type(train_val_test_sets_list))\n",
    "\n",
    "    basic_params.update({\"train_val_test_sets_list\" : train_val_test_sets_list})\n",
    "\n",
    "    results[dataset_name] = {}\n",
    "    features[dataset_name] = {}\n",
    "    equations[dataset_name] = {}\n",
    "\n",
    "    # Run GP and store results\n",
    "    results[dataset_name]['GP'], features[dataset_name]['GP'], equations[dataset_name]['GP'] = gp(**basic_params)\n",
    "    \n",
    "    # Run GPSHAP and store results\n",
    "    results[dataset_name]['GPSHAP'], features[dataset_name]['GPSHAP'], equations[dataset_name]['GPSHAP'] = gpshap(\n",
    "        gp_best_equations=equations[dataset_name]['GP'],\n",
    "        **basic_params\n",
    "    )\n",
    "\n",
    "    # Run GPCMI and store results\n",
    "    results[dataset_name]['gpCMI'], features[dataset_name][\"gpCMI\"], equations[dataset_name][\"gpCMI\"] = gpcmi(\n",
    "        fs_params=cmi_fs_params,\n",
    "        **basic_params,\n",
    "    )\n",
    "\n",
    "    # Run new_method and store results\n",
    "    results[dataset_name]['gpNEW'], features[dataset_name][\"gpNEW\"], equations[dataset_name][\"gpNEW\"] = new_method(\n",
    "        {\n",
    "            \"fs_params\":cmi_fs_params,\n",
    "            **basic_params, \n",
    "        },\n",
    "        n_submodels=n_submodels,\n",
    "        method_function=gpcmi,\n",
    "    )\n",
    "\n",
    "    print()"
   ]
  },
  {
   "cell_type": "code",
   "execution_count": 5,
   "id": "e59150e0",
   "metadata": {},
   "outputs": [],
   "source": [
    "data = (results, features, equations)\n",
    "pickle.dump(data, open(\"data.pickle\", \"wb\"))\n",
    "results, features, equations = pickle.load(open(\"data.pickle\", \"rb\"))"
   ]
  },
  {
   "cell_type": "code",
   "execution_count": 6,
   "id": "3e2fc080",
   "metadata": {},
   "outputs": [
    {
     "data": {
      "image/png": "[encoded data removed]",
      "text/plain": [
       "<Figure size 600x500 with 1 Axes>"
      ]
     },
     "metadata": {},
     "output_type": "display_data"
    }
   ],
   "source": [
    "# metrics = 'training_loss'\n",
    "# metrics = 'validation_loss'\n",
    "metrics = 'test_loss'\n",
    "n_datasets = len(results)\n",
    "record_interval = basic_params['record_interval']\n",
    "fig, axes = plt.subplots(1, n_datasets, figsize=(6 * n_datasets, 5))\n",
    "\n",
    "if n_datasets == 1:\n",
    "    axes = [axes]  # Ensure axes is always iterable\n",
    "\n",
    "for ax, (dataset_name, dataset_results) in zip(axes, results.items()):\n",
    "    # Get the number of intervals from any method (they should all be the same)\n",
    "    method = next(iter(dataset_results))\n",
    "    length = len(dataset_results[method][metrics].mean(axis=0))\n",
    "\n",
    "    for method in dataset_results.keys():\n",
    "        ax.plot(\n",
    "            range(record_interval, length * record_interval + 1, record_interval),\n",
    "            np.nanmedian(dataset_results[method][metrics], axis=0),\n",
    "            label=method\n",
    "        )\n",
    "    ax.set_title(dataset_name)\n",
    "    ax.set_xlabel(\"Interval\")\n",
    "    # ax.set_yscale(\"log\")\n",
    "    ax.legend()\n",
    "\n",
    "axes[0].set_ylabel(metrics)\n",
    "plt.tight_layout()\n",
    "\n",
    "plt.show()"
   ]
  },
  {
   "cell_type": "code",
   "execution_count": 7,
   "id": "5cf839c6",
   "metadata": {},
   "outputs": [],
   "source": [
    "from copy import deepcopy\n",
    "\n",
    "results_copy = deepcopy(results)\n",
    "\n",
    "for dataset_name in results.keys():\n",
    "    for method in results[dataset_name].keys():\n",
    "        for metric in results[dataset_name][method].keys():\n",
    "            results_copy[dataset_name][method][metric] = results[dataset_name][method][metric][:, -1]"
   ]
  },
  {
   "cell_type": "code",
   "execution_count": 8,
   "id": "333fe23a",
   "metadata": {},
   "outputs": [
    {
     "data": {
      "image/png": "[encoded data removed]",
      "text/plain": [
       "<Figure size 1200x500 with 1 Axes>"
      ]
     },
     "metadata": {},
     "output_type": "display_data"
    }
   ],
   "source": [
    "# Convert results to DataFrame    \n",
    "df_results = results_to_dataframe(results_copy)\n",
    "\n",
    "fig, axes = plot_results(\n",
    "    df_results, \n",
    "    # nrows=2, \n",
    "    # ncols=None, \n",
    "    # group_level=\"model\",\n",
    "    # value_level=\"metric\", \n",
    "    # value_key=\"test_loss\"\n",
    "    # value_key=\"validation_loss\",\n",
    "    # value_key=\"training_loss\"\n",
    ")\n",
    "\n",
    "fig.figure.set_size_inches(12, 5)\n",
    "fig.tight_layout(w_pad=0.5)\n",
    "fig.suptitle(\"Test Loss for Different Methods\", y=1.04)\n",
    "# fig.supylabel(\"Test Loss\", x=-.02)\n",
    "fig.supxlabel(\"Methods\", y=-.05)\n",
    "\n",
    "# axes[0].set_ylim(-.001, 0.2)\n",
    "# axes[1].set_ylim(.1, 0.2)\n",
    "plt.show()"
   ]
  },
  {
   "cell_type": "code",
   "execution_count": null,
   "id": "345e87b3",
   "metadata": {},
   "outputs": [],
   "source": [
    "for dataset_name in features.keys():\n",
    "    print(f\"{dataset_name} features:\")\n",
    "    for method in features[dataset_name].keys():\n",
    "        a = features[dataset_name][method]\n",
    "\n",
    "        if isinstance(a[0], str):\n",
    "            print(f\"{method}: {len(a)}\")\n",
    "        else:\n",
    "\n",
    "            if isinstance(a[0][0], str):\n",
    "                b = list(map(lambda x: len(x), a))\n",
    "                mean_x = np.mean(b)\n",
    "            else:\n",
    "                c = list(map(lambda x: len(set([item for sublist in x for item in sublist])), features[dataset_name][method]))\n",
    "                mean_x = np.mean(c)\n",
    "\n",
    "            print(f\"{method}: {mean_x:.0f}\")\n",
    "    print()\n",
    "            "
   ]
  },
  {
   "cell_type": "code",
   "execution_count": null,
   "id": "3384de67",
   "metadata": {},
   "outputs": [],
   "source": [
    "ff = equations['505_tecator']['GPSHAP'][29].sympy_format\n",
    "ff"
   ]
  },
  {
   "cell_type": "code",
   "execution_count": null,
   "id": "5b2534cb",
   "metadata": {},
   "outputs": [],
   "source": [
    "sym_list = [str(sym) for sym in ff.free_symbols]\n",
    "w = datasets['505_tecator']['X']#[sym_list]\n",
    "w.head()"
   ]
  },
  {
   "cell_type": "code",
   "execution_count": null,
   "id": "f41151b3",
   "metadata": {},
   "outputs": [],
   "source": [
    "z = w[w['absorbance_83'] + w['principal_component_3'] < 0]\n",
    "z['absorbance_83'] + z['principal_component_3']"
   ]
  },
  {
   "cell_type": "code",
   "execution_count": null,
   "id": "760e2ae8",
   "metadata": {},
   "outputs": [],
   "source": [
    "features['F1']['GPSHAP']"
   ]
  },
  {
   "cell_type": "code",
   "execution_count": null,
   "id": "780214d1",
   "metadata": {},
   "outputs": [],
   "source": [
    "print(results['F1']['GPSHAP']['test_loss'][7][-1])"
   ]
  },
  {
   "cell_type": "code",
   "execution_count": null,
   "id": "30070771",
   "metadata": {},
   "outputs": [],
   "source": [
    "a = {\"a\":1, \"b\":2, \"c\":3}\n",
    "\n",
    "# check if \"d\" is in a else set it\n",
    "# if \"d\" not in a:\n",
    "#     a[\"d\"] = 4\n",
    "\n",
    "a"
   ]
  },
  {
   "cell_type": "code",
   "execution_count": null,
   "id": "7c0197c2",
   "metadata": {},
   "outputs": [],
   "source": [
    "a['d']"
   ]
  },
  {
   "cell_type": "code",
   "execution_count": null,
   "id": "c3cc17f6",
   "metadata": {},
   "outputs": [],
   "source": [
    "sympy_expr = equations['F1']['GP'][8].sympy_format\n",
    "print(sympy_expr)\n",
    "print(sympy_expr.simplify())\n",
    "print(sympy_expr.simplify().free_symbols)\n",
    "print(sympy_expr.free_symbols)\n",
    "expr_variables = sorted(sympy_expr.free_symbols, key=lambda s: str(s))\n",
    "print(expr_variables)"
   ]
  },
  {
   "cell_type": "code",
   "execution_count": null,
   "id": "267bf91c",
   "metadata": {},
   "outputs": [],
   "source": [
    "from typing import Callable, Optional\n",
    "import numpy as np\n",
    "from sympy import lambdify\n",
    "from shap import SamplingExplainer, utils\n",
    "\n",
    "def _lambda_func_shap(\n",
    "    X: np.ndarray, \n",
    "    lambda_func: Callable\n",
    ") -> np.ndarray:\n",
    "    \"\"\"\n",
    "    Helper function to apply a sympy lambdified function to a 2D numpy array X,\n",
    "    unpacking columns as separate arguments.\n",
    "\n",
    "    Parameters\n",
    "    ----------\n",
    "    X : np.ndarray\n",
    "        2D array of shape (n_samples, n_features).\n",
    "    lambda_func : callable\n",
    "        Function returned by sympy.lambdify, expecting each feature as a separate argument.\n",
    "\n",
    "    Returns\n",
    "    -------\n",
    "    np.ndarray\n",
    "        The result of applying lambda_func to X.\n",
    "    \"\"\"\n",
    "        \n",
    "    # Unpack each column of X as a separate argument to lambda_func\n",
    "    return lambda_func(*[X[:, i] for i in range(X.shape[1])])\n",
    "\n",
    "def shap_feature_selection(\n",
    "    n_top_features: int,\n",
    "    X_train_list: Optional[tuple],\n",
    "    gp_best_equations: Optional[list]\n",
    ") -> tuple[list[str], list[float], tuple]:\n",
    "    \n",
    "    # Initialize SHAP value aggregation\n",
    "    mean_shap_values = {}\n",
    "    n_equations = len(gp_best_equations)\n",
    "\n",
    "    # Process each equation to compute SHAP values\n",
    "    for gp_best_equation, X_train in zip(gp_best_equations, X_train_list):\n",
    "        # Convert GP equation to sympy format and extract variables\n",
    "        sympy_expr = gp_best_equation.sympy_format\n",
    "        expr_variables = sorted(sympy_expr.free_symbols, key=lambda s: str(s)) # TODO: I dont know why I short\n",
    "        \n",
    "        # Skip equations with no variables\n",
    "        if len(expr_variables) >= 1:\n",
    "            # Create numpy-compatible lambda function from sympy expression\n",
    "            lambda_func = lambdify(expr_variables, sympy_expr, modules=\"numpy\")\n",
    "            str_variables = [str(var) for var in expr_variables]\n",
    "\n",
    "            print(X_train.shape)\n",
    "            \n",
    "            # Sample data for SHAP analysis\n",
    "            # Background data provides baseline for SHAP explanations\n",
    "            X_background = utils.sample(X_train[str_variables], 100, random_state=None)\n",
    "            # Foreground data is what we want to explain\n",
    "            X_foreground = utils.sample(X_train[str_variables], 1000, random_state=None)\n",
    "\n",
    "            # Create SHAP explainer for the equation function\n",
    "            explainer = SamplingExplainer(\n",
    "                lambda X: _lambda_func_shap(X, lambda_func),\n",
    "                X_background\n",
    "            )\n",
    "\n",
    "            # Compute SHAP values for each feature in the equation\n",
    "            shap_values = explainer.shap_values(X_foreground, silent=True)\n",
    "            # Use absolute values and average across samples to get feature importance\n",
    "            feature_shap_values = np.mean(shap_values, axis=0)\n",
    "            # feature_shap_values = np.abs(shap_values).mean(axis=0)\n",
    "\n",
    "            # Aggregate SHAP values across equations (normalize by number of equations)\n",
    "            for feature_shap_value, var_name in zip(feature_shap_values, str_variables):\n",
    "                mean_shap_values[var_name] = mean_shap_values.get(var_name, 0) + feature_shap_value/n_equations\n",
    "\n",
    "    # Select top features by mean SHAP value\n",
    "    selected_features = sorted(mean_shap_values, key=mean_shap_values.get, reverse=True)[:n_top_features]\n",
    "    mean_shap_values_selected_features = [mean_shap_values[feature] for feature in selected_features]\n",
    "\n",
    "    return selected_features, mean_shap_values_selected_features"
   ]
  },
  {
   "cell_type": "code",
   "execution_count": null,
   "id": "ccd25720",
   "metadata": {},
   "outputs": [],
   "source": [
    "X_train_list = [train_val_test_sets[0] for train_val_test_sets in train_val_test_sets_list]\n",
    "\n",
    "a, b = shap_feature_selection(\n",
    "    n_top_features=X_train_list[0].shape[1],\n",
    "    X_train_list=X_train_list,\n",
    "    gp_best_equations=equations['F1']['GP']\n",
    ")"
   ]
  },
  {
   "cell_type": "code",
   "execution_count": 15,
   "id": "f1ef923a",
   "metadata": {},
   "outputs": [
    {
     "name": "stdout",
     "output_type": "stream",
     "text": [
      "5\n",
      "Submodel 0: Runs 0 to 1\n",
      "0 2\n",
      "Submodel 1: Runs 1 to 3\n",
      "2 6\n",
      "Submodel 2: Runs 3 to 5\n",
      "6 10\n"
     ]
    }
   ],
   "source": [
    "niterations = 10\n",
    "record_interval = 2\n",
    "n_records = niterations // record_interval\n",
    "\n",
    "n_submodels = 3\n",
    "\n",
    "print(n_records)\n",
    "\n",
    "for sub_i in range(n_submodels):\n",
    "    low = sub_i * n_records // n_submodels\n",
    "    high = (sub_i + 1) * n_records // n_submodels\n",
    "\n",
    "    print(f\"Submodel {sub_i}: Runs {low} to {high}\")\n",
    "    print(low*record_interval, (high * record_interval))"
   ]
  },
  {
   "cell_type": "code",
   "execution_count": null,
   "id": "1ee1368b",
   "metadata": {},
   "outputs": [],
   "source": [
    "a = {'a': [1], 'b': 2, 'c': 3}\n",
    "b = [[1,2], [3,4], [5,6]]\n",
    "d = [['a', 'b', 'c'], ['d', 'e', 'f'], ['g', 'h', 'i']]\n",
    "\n",
    "aa = a['a']\n",
    "aa[0] -= 1\n",
    "a"
   ]
  },
  {
   "cell_type": "code",
   "execution_count": null,
   "id": "91484f03",
   "metadata": {},
   "outputs": [],
   "source": [
    "aa"
   ]
  },
  {
   "cell_type": "code",
   "execution_count": 15,
   "id": "2557a94a",
   "metadata": {},
   "outputs": [
    {
     "data": {
      "text/plain": [
       "-1"
      ]
     },
     "execution_count": 15,
     "metadata": {},
     "output_type": "execute_result"
    }
   ],
   "source": [
    "a = 5\n",
    "a =- 1\n",
    "a"
   ]
  }
 ],
 "metadata": {
  "kernelspec": {
   "display_name": "Python 3",
   "language": "python",
   "name": "python3"
  },
  "language_info": {
   "codemirror_mode": {
    "name": "ipython",
    "version": 3
   },
   "file_extension": ".py",
   "mimetype": "text/x-python",
   "name": "python",
   "nbconvert_exporter": "python",
   "pygments_lexer": "ipython3",
   "version": "3.12.2"
  }
 },
 "nbformat": 4,
 "nbformat_minor": 5
}
